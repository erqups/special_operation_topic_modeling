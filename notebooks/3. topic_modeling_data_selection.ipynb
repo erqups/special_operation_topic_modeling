{
 "cells": [
  {
   "cell_type": "markdown",
   "metadata": {},
   "source": [
    "## Цель на ноутбук\n",
    "Необходимо отобрать те посты и комментарии, над которыми будем делать topic modeling и topic representation\n",
    "\n",
    "### 1. Посты в каналах\n",
    "Предлагается взять день начала конфликта - 24 февраля и последний полный день выборки. \n",
    "\n",
    "### 2. Комментарии к постам\n",
    "Берем также 24 февраля и 7 марта, по следующим правилам чистим от ботов:\n",
    "1. Комментарии, отправленные в течение очень короткого промежутка времени после публикации поста\n",
    "2. Наличие ссылок в сообщении\n",
    "3. Наличие номеров карт и телефонов\n",
    "4. Медиа без текста\n",
    "\n",
    "Эмбеддинги будем получать бертом, так что процессить текст не надо. "
   ]
  },
  {
   "cell_type": "code",
   "execution_count": 1,
   "metadata": {},
   "outputs": [],
   "source": [
    "import json\n",
    "import re\n",
    "from datetime import (\n",
    "    datetime, timezone\n",
    ")\n",
    "\n",
    "import pandas as pd\n",
    "import matplotlib.pyplot as plt\n",
    "import seaborn as sns"
   ]
  },
  {
   "cell_type": "code",
   "execution_count": 2,
   "metadata": {},
   "outputs": [],
   "source": [
    "sns.set_theme(style=\"whitegrid\")\n",
    "pd.set_option(\"display.max_columns\", 50)\n",
    "pd.set_option(\"display.max_rows\", 150)"
   ]
  },
  {
   "cell_type": "markdown",
   "metadata": {},
   "source": [
    "# 1. Служебные функции"
   ]
  },
  {
   "cell_type": "code",
   "execution_count": 3,
   "metadata": {},
   "outputs": [],
   "source": [
    "def is_comment_correct(comment: str) -> bool:\n",
    "    pass"
   ]
  },
  {
   "cell_type": "markdown",
   "metadata": {},
   "source": [
    "# 2. Константы"
   ]
  },
  {
   "cell_type": "code",
   "execution_count": 4,
   "metadata": {},
   "outputs": [],
   "source": [
    "MESSAGES_PARQUET_FILE = \"../data/processed/messages.parquet\"\n",
    "COMMENTS_PARQUET_FILE = \"../data/processed/comments.parquet\"\n",
    "\n",
    "START_DATE_LEFT = datetime(\n",
    "    2022, 2, 24, 0, 0, 0, \n",
    "    tzinfo=timezone.utc\n",
    ")\n",
    "\n",
    "START_DATE_RIGHT = datetime(\n",
    "    2022, 2, 25, 0, 0, 0, \n",
    "    tzinfo=timezone.utc\n",
    ")\n",
    "\n",
    "END_DATE_LEFT = datetime(\n",
    "    2022, 3, 7, 0, 0, 0, \n",
    "    tzinfo=timezone.utc\n",
    ")\n",
    "\n",
    "END_DATE_RIGHT = datetime(\n",
    "    2022, 3, 8, 0, 0, 0, \n",
    "    tzinfo=timezone.utc\n",
    ")"
   ]
  },
  {
   "cell_type": "markdown",
   "metadata": {},
   "source": [
    "# 3. Выгружаем данные\n",
    "Дополнително делаем `join_key`, так как у каждого канала своя нумерация постов и они могут дублироваться. "
   ]
  },
  {
   "cell_type": "code",
   "execution_count": 5,
   "metadata": {},
   "outputs": [
    {
     "name": "stdout",
     "output_type": "stream",
     "text": [
      "23043\n",
      "(23043, 13)\n"
     ]
    },
    {
     "data": {
      "text/html": [
       "<div>\n",
       "<style scoped>\n",
       "    .dataframe tbody tr th:only-of-type {\n",
       "        vertical-align: middle;\n",
       "    }\n",
       "\n",
       "    .dataframe tbody tr th {\n",
       "        vertical-align: top;\n",
       "    }\n",
       "\n",
       "    .dataframe thead th {\n",
       "        text-align: right;\n",
       "    }\n",
       "</style>\n",
       "<table border=\"1\" class=\"dataframe\">\n",
       "  <thead>\n",
       "    <tr style=\"text-align: right;\">\n",
       "      <th></th>\n",
       "      <th>channel_name</th>\n",
       "      <th>channel_orientation</th>\n",
       "      <th>comments_unavailable</th>\n",
       "      <th>id</th>\n",
       "      <th>date</th>\n",
       "      <th>edit_date</th>\n",
       "      <th>message</th>\n",
       "      <th>views</th>\n",
       "      <th>forwards</th>\n",
       "      <th>media</th>\n",
       "      <th>legacy</th>\n",
       "      <th>comments_count</th>\n",
       "      <th>join_key</th>\n",
       "    </tr>\n",
       "  </thead>\n",
       "  <tbody>\n",
       "    <tr>\n",
       "      <th>0</th>\n",
       "      <td>readovkanews</td>\n",
       "      <td>rus</td>\n",
       "      <td>False</td>\n",
       "      <td>27683</td>\n",
       "      <td>2022-03-08 11:07:02+00:00</td>\n",
       "      <td>2022-03-08 11:07:13+00:00</td>\n",
       "      <td>❗️В МЧС РФ заявили, что Россия доставила на Ук...</td>\n",
       "      <td>102751.0</td>\n",
       "      <td>2.0</td>\n",
       "      <td>False</td>\n",
       "      <td>True</td>\n",
       "      <td>106</td>\n",
       "      <td>readovkanews_27683</td>\n",
       "    </tr>\n",
       "    <tr>\n",
       "      <th>1</th>\n",
       "      <td>readovkanews</td>\n",
       "      <td>rus</td>\n",
       "      <td>False</td>\n",
       "      <td>27685</td>\n",
       "      <td>2022-03-08 11:39:16+00:00</td>\n",
       "      <td>2022-03-08 11:39:37+00:00</td>\n",
       "      <td>❗️Британская нефтегазовая компания British Pet...</td>\n",
       "      <td>88669.0</td>\n",
       "      <td>106.0</td>\n",
       "      <td>False</td>\n",
       "      <td>True</td>\n",
       "      <td>155</td>\n",
       "      <td>readovkanews_27685</td>\n",
       "    </tr>\n",
       "    <tr>\n",
       "      <th>2</th>\n",
       "      <td>readovkanews</td>\n",
       "      <td>rus</td>\n",
       "      <td>False</td>\n",
       "      <td>27682</td>\n",
       "      <td>2022-03-08 10:49:32+00:00</td>\n",
       "      <td>2022-03-08 10:49:44+00:00</td>\n",
       "      <td>СК РФ установит украинских должностных лиц, пр...</td>\n",
       "      <td>108785.0</td>\n",
       "      <td>69.0</td>\n",
       "      <td>False</td>\n",
       "      <td>True</td>\n",
       "      <td>124</td>\n",
       "      <td>readovkanews_27682</td>\n",
       "    </tr>\n",
       "    <tr>\n",
       "      <th>3</th>\n",
       "      <td>readovkanews</td>\n",
       "      <td>rus</td>\n",
       "      <td>False</td>\n",
       "      <td>27688</td>\n",
       "      <td>2022-03-08 12:08:45+00:00</td>\n",
       "      <td>2022-03-08 12:08:57+00:00</td>\n",
       "      <td>В Белграде выразили поддержку России — фанаты ...</td>\n",
       "      <td>71555.0</td>\n",
       "      <td>343.0</td>\n",
       "      <td>True</td>\n",
       "      <td>True</td>\n",
       "      <td>185</td>\n",
       "      <td>readovkanews_27688</td>\n",
       "    </tr>\n",
       "    <tr>\n",
       "      <th>4</th>\n",
       "      <td>readovkanews</td>\n",
       "      <td>rus</td>\n",
       "      <td>False</td>\n",
       "      <td>27690</td>\n",
       "      <td>2022-03-08 12:19:26+00:00</td>\n",
       "      <td>2022-03-08 12:31:35+00:00</td>\n",
       "      <td>❗️Крупнейшая в мире криптобиржа Binance с 9 ма...</td>\n",
       "      <td>69515.0</td>\n",
       "      <td>820.0</td>\n",
       "      <td>False</td>\n",
       "      <td>True</td>\n",
       "      <td>238</td>\n",
       "      <td>readovkanews_27690</td>\n",
       "    </tr>\n",
       "  </tbody>\n",
       "</table>\n",
       "</div>"
      ],
      "text/plain": [
       "   channel_name channel_orientation  comments_unavailable     id  \\\n",
       "0  readovkanews                 rus                 False  27683   \n",
       "1  readovkanews                 rus                 False  27685   \n",
       "2  readovkanews                 rus                 False  27682   \n",
       "3  readovkanews                 rus                 False  27688   \n",
       "4  readovkanews                 rus                 False  27690   \n",
       "\n",
       "                       date                 edit_date  \\\n",
       "0 2022-03-08 11:07:02+00:00 2022-03-08 11:07:13+00:00   \n",
       "1 2022-03-08 11:39:16+00:00 2022-03-08 11:39:37+00:00   \n",
       "2 2022-03-08 10:49:32+00:00 2022-03-08 10:49:44+00:00   \n",
       "3 2022-03-08 12:08:45+00:00 2022-03-08 12:08:57+00:00   \n",
       "4 2022-03-08 12:19:26+00:00 2022-03-08 12:31:35+00:00   \n",
       "\n",
       "                                             message     views  forwards  \\\n",
       "0  ❗️В МЧС РФ заявили, что Россия доставила на Ук...  102751.0       2.0   \n",
       "1  ❗️Британская нефтегазовая компания British Pet...   88669.0     106.0   \n",
       "2  СК РФ установит украинских должностных лиц, пр...  108785.0      69.0   \n",
       "3  В Белграде выразили поддержку России — фанаты ...   71555.0     343.0   \n",
       "4  ❗️Крупнейшая в мире криптобиржа Binance с 9 ма...   69515.0     820.0   \n",
       "\n",
       "   media  legacy  comments_count            join_key  \n",
       "0  False    True             106  readovkanews_27683  \n",
       "1  False    True             155  readovkanews_27685  \n",
       "2  False    True             124  readovkanews_27682  \n",
       "3   True    True             185  readovkanews_27688  \n",
       "4  False    True             238  readovkanews_27690  "
      ]
     },
     "execution_count": 5,
     "metadata": {},
     "output_type": "execute_result"
    }
   ],
   "source": [
    "messages = pd.read_parquet(\n",
    "    MESSAGES_PARQUET_FILE\n",
    ")\n",
    "\n",
    "messages[\"join_key\"] = messages.apply(\n",
    "    lambda row: f\"{row['channel_name']}_{row['id']}\",\n",
    "    axis=1\n",
    ")\n",
    "\n",
    "print(messages[\"join_key\"].nunique())\n",
    "print(messages.shape)\n",
    "messages.head(5)"
   ]
  },
  {
   "cell_type": "code",
   "execution_count": 6,
   "metadata": {},
   "outputs": [
    {
     "name": "stdout",
     "output_type": "stream",
     "text": [
      "967\n",
      "(104536, 10)\n"
     ]
    },
    {
     "data": {
      "text/html": [
       "<div>\n",
       "<style scoped>\n",
       "    .dataframe tbody tr th:only-of-type {\n",
       "        vertical-align: middle;\n",
       "    }\n",
       "\n",
       "    .dataframe tbody tr th {\n",
       "        vertical-align: top;\n",
       "    }\n",
       "\n",
       "    .dataframe thead th {\n",
       "        text-align: right;\n",
       "    }\n",
       "</style>\n",
       "<table border=\"1\" class=\"dataframe\">\n",
       "  <thead>\n",
       "    <tr style=\"text-align: right;\">\n",
       "      <th></th>\n",
       "      <th>channel_name</th>\n",
       "      <th>channel_orientation</th>\n",
       "      <th>message_id</th>\n",
       "      <th>comment_id</th>\n",
       "      <th>comment_date</th>\n",
       "      <th>comment_edit_date</th>\n",
       "      <th>comment_message</th>\n",
       "      <th>comment_media</th>\n",
       "      <th>join_key</th>\n",
       "      <th>comment_date_truncated</th>\n",
       "    </tr>\n",
       "  </thead>\n",
       "  <tbody>\n",
       "    <tr>\n",
       "      <th>10228</th>\n",
       "      <td>readovkanews</td>\n",
       "      <td>rus</td>\n",
       "      <td>27640</td>\n",
       "      <td>1671477</td>\n",
       "      <td>2022-03-07 22:34:41+00:00</td>\n",
       "      <td>NaT</td>\n",
       "      <td>Может многие и не хотят, но это не значит, что...</td>\n",
       "      <td>False</td>\n",
       "      <td>readovkanews_27640</td>\n",
       "      <td>2022-3-7, 22:00 - 22:59</td>\n",
       "    </tr>\n",
       "    <tr>\n",
       "      <th>10229</th>\n",
       "      <td>readovkanews</td>\n",
       "      <td>rus</td>\n",
       "      <td>27640</td>\n",
       "      <td>1671462</td>\n",
       "      <td>2022-03-07 22:32:25+00:00</td>\n",
       "      <td>NaT</td>\n",
       "      <td>Он окруженный стоит, еще в городе не заходили....</td>\n",
       "      <td>False</td>\n",
       "      <td>readovkanews_27640</td>\n",
       "      <td>2022-3-7, 22:00 - 22:59</td>\n",
       "    </tr>\n",
       "    <tr>\n",
       "      <th>10230</th>\n",
       "      <td>readovkanews</td>\n",
       "      <td>rus</td>\n",
       "      <td>27640</td>\n",
       "      <td>1671433</td>\n",
       "      <td>2022-03-07 22:26:33+00:00</td>\n",
       "      <td>NaT</td>\n",
       "      <td>Неважно куда сейчас . Речь о спасении жизни.</td>\n",
       "      <td>False</td>\n",
       "      <td>readovkanews_27640</td>\n",
       "      <td>2022-3-7, 22:00 - 22:59</td>\n",
       "    </tr>\n",
       "    <tr>\n",
       "      <th>10231</th>\n",
       "      <td>readovkanews</td>\n",
       "      <td>rus</td>\n",
       "      <td>27640</td>\n",
       "      <td>1671424</td>\n",
       "      <td>2022-03-07 22:25:41+00:00</td>\n",
       "      <td>NaT</td>\n",
       "      <td>Из Харькова многие не хотят выходить, просто н...</td>\n",
       "      <td>False</td>\n",
       "      <td>readovkanews_27640</td>\n",
       "      <td>2022-3-7, 22:00 - 22:59</td>\n",
       "    </tr>\n",
       "    <tr>\n",
       "      <th>10232</th>\n",
       "      <td>readovkanews</td>\n",
       "      <td>rus</td>\n",
       "      <td>27640</td>\n",
       "      <td>1671410</td>\n",
       "      <td>2022-03-07 22:24:29+00:00</td>\n",
       "      <td>NaT</td>\n",
       "      <td>Такие вопросы должны решать военные обеих стор...</td>\n",
       "      <td>False</td>\n",
       "      <td>readovkanews_27640</td>\n",
       "      <td>2022-3-7, 22:00 - 22:59</td>\n",
       "    </tr>\n",
       "  </tbody>\n",
       "</table>\n",
       "</div>"
      ],
      "text/plain": [
       "       channel_name channel_orientation  message_id  comment_id  \\\n",
       "10228  readovkanews                 rus       27640     1671477   \n",
       "10229  readovkanews                 rus       27640     1671462   \n",
       "10230  readovkanews                 rus       27640     1671433   \n",
       "10231  readovkanews                 rus       27640     1671424   \n",
       "10232  readovkanews                 rus       27640     1671410   \n",
       "\n",
       "                   comment_date comment_edit_date  \\\n",
       "10228 2022-03-07 22:34:41+00:00               NaT   \n",
       "10229 2022-03-07 22:32:25+00:00               NaT   \n",
       "10230 2022-03-07 22:26:33+00:00               NaT   \n",
       "10231 2022-03-07 22:25:41+00:00               NaT   \n",
       "10232 2022-03-07 22:24:29+00:00               NaT   \n",
       "\n",
       "                                         comment_message  comment_media  \\\n",
       "10228  Может многие и не хотят, но это не значит, что...          False   \n",
       "10229  Он окруженный стоит, еще в городе не заходили....          False   \n",
       "10230       Неважно куда сейчас . Речь о спасении жизни.          False   \n",
       "10231  Из Харькова многие не хотят выходить, просто н...          False   \n",
       "10232  Такие вопросы должны решать военные обеих стор...          False   \n",
       "\n",
       "                 join_key   comment_date_truncated  \n",
       "10228  readovkanews_27640  2022-3-7, 22:00 - 22:59  \n",
       "10229  readovkanews_27640  2022-3-7, 22:00 - 22:59  \n",
       "10230  readovkanews_27640  2022-3-7, 22:00 - 22:59  \n",
       "10231  readovkanews_27640  2022-3-7, 22:00 - 22:59  \n",
       "10232  readovkanews_27640  2022-3-7, 22:00 - 22:59  "
      ]
     },
     "execution_count": 6,
     "metadata": {},
     "output_type": "execute_result"
    }
   ],
   "source": [
    "comments = pd.read_parquet(\n",
    "    COMMENTS_PARQUET_FILE\n",
    ")\n",
    "\n",
    "comments = comments[\n",
    "    (\n",
    "        (\n",
    "            (comments[\"comment_date\"] >= START_DATE_LEFT)\n",
    "            & (comments[\"comment_date\"] < START_DATE_RIGHT)\n",
    "        )\n",
    "        | (\n",
    "            (comments[\"comment_date\"] >= END_DATE_LEFT)\n",
    "            & (comments[\"comment_date\"] < END_DATE_RIGHT)\n",
    "        )\n",
    "    )\n",
    "]\n",
    "\n",
    "comments[\"join_key\"] = comments.apply(\n",
    "    lambda row: f\"{row['channel_name']}_{row['message_id']}\",\n",
    "    axis=1\n",
    ")\n",
    "\n",
    "comments[\"comment_date_truncated\"] = comments[\"comment_date\"].apply(\n",
    "    lambda value: f\"{value.year}-{value.month}-{value.day}, {value.hour}:00 - {value.hour}:59\"\n",
    ")\n",
    "\n",
    "print(comments[\"join_key\"].nunique())\n",
    "print(comments.shape)\n",
    "comments.head(5)"
   ]
  },
  {
   "cell_type": "markdown",
   "metadata": {},
   "source": [
    "# 4. Смотрим у каких каналов есть комментарии\n",
    "Комментарии есть только у двух каналов - NEXTA и Readovka, при этом 24 не все посты в NEXTA были открыты для комментирования. "
   ]
  },
  {
   "cell_type": "code",
   "execution_count": 7,
   "metadata": {},
   "outputs": [
    {
     "data": {
      "text/plain": [
       "<matplotlib.lines.Line2D at 0x7fd4779b9400>"
      ]
     },
     "execution_count": 7,
     "metadata": {},
     "output_type": "execute_result"
    },
    {
     "data": {
      "image/png": "[encoded data removed]",
      "text/plain": [
       "<Figure size 1080x576 with 2 Axes>"
      ]
     },
     "metadata": {},
     "output_type": "display_data"
    }
   ],
   "source": [
    "date_plot_order = pd.unique(\n",
    "    comments.sort_values(\"comment_date\")[\"comment_date_truncated\"]\n",
    ")\n",
    "\n",
    "\n",
    "figure = plt.figure(figsize=(15, 8))\n",
    "grid = figure.add_gridspec(2, 1)\n",
    "\n",
    "ax_channel = figure.add_subplot(grid[0, 0])\n",
    "sns.countplot(x=\"channel_name\", data=comments, ax=ax_channel)\n",
    "\n",
    "ax_date = figure.add_subplot(grid[1, 0])\n",
    "sns.countplot(\n",
    "    x=\"comment_date_truncated\", data=comments, \n",
    "    ax=ax_date, order=date_plot_order,\n",
    "    hue=\"channel_name\"\n",
    ")\n",
    "\n",
    "plt.xticks(rotation=90)\n",
    "plt.axvline(\n",
    "    x=23.5, color=\"black\", linestyle=\"--\"\n",
    ")"
   ]
  },
  {
   "cell_type": "markdown",
   "metadata": {},
   "source": [
    "# 5. Чистим комментарии"
   ]
  },
  {
   "cell_type": "code",
   "execution_count": 8,
   "metadata": {},
   "outputs": [
    {
     "name": "stdout",
     "output_type": "stream",
     "text": [
      "(104536, 22)\n"
     ]
    },
    {
     "data": {
      "text/html": [
       "<div>\n",
       "<style scoped>\n",
       "    .dataframe tbody tr th:only-of-type {\n",
       "        vertical-align: middle;\n",
       "    }\n",
       "\n",
       "    .dataframe tbody tr th {\n",
       "        vertical-align: top;\n",
       "    }\n",
       "\n",
       "    .dataframe thead th {\n",
       "        text-align: right;\n",
       "    }\n",
       "</style>\n",
       "<table border=\"1\" class=\"dataframe\">\n",
       "  <thead>\n",
       "    <tr style=\"text-align: right;\">\n",
       "      <th></th>\n",
       "      <th>channel_name_x</th>\n",
       "      <th>channel_orientation_x</th>\n",
       "      <th>message_id</th>\n",
       "      <th>comment_id</th>\n",
       "      <th>comment_date</th>\n",
       "      <th>comment_edit_date</th>\n",
       "      <th>comment_message</th>\n",
       "      <th>comment_media</th>\n",
       "      <th>join_key</th>\n",
       "      <th>comment_date_truncated</th>\n",
       "      <th>channel_name_y</th>\n",
       "      <th>channel_orientation_y</th>\n",
       "      <th>comments_unavailable</th>\n",
       "      <th>id</th>\n",
       "      <th>date</th>\n",
       "      <th>edit_date</th>\n",
       "      <th>message</th>\n",
       "      <th>views</th>\n",
       "      <th>forwards</th>\n",
       "      <th>media</th>\n",
       "      <th>legacy</th>\n",
       "      <th>comments_count</th>\n",
       "    </tr>\n",
       "  </thead>\n",
       "  <tbody>\n",
       "    <tr>\n",
       "      <th>0</th>\n",
       "      <td>readovkanews</td>\n",
       "      <td>rus</td>\n",
       "      <td>27640</td>\n",
       "      <td>1671477</td>\n",
       "      <td>2022-03-07 22:34:41+00:00</td>\n",
       "      <td>NaT</td>\n",
       "      <td>Может многие и не хотят, но это не значит, что...</td>\n",
       "      <td>False</td>\n",
       "      <td>readovkanews_27640</td>\n",
       "      <td>2022-3-7, 22:00 - 22:59</td>\n",
       "      <td>readovkanews</td>\n",
       "      <td>rus</td>\n",
       "      <td>False</td>\n",
       "      <td>27640</td>\n",
       "      <td>2022-03-07 21:11:57+00:00</td>\n",
       "      <td>2022-03-07 21:12:03+00:00</td>\n",
       "      <td>Россия объявляет «режим тишины» с 10:00 8 март...</td>\n",
       "      <td>190786.0</td>\n",
       "      <td>128.0</td>\n",
       "      <td>False</td>\n",
       "      <td>True</td>\n",
       "      <td>93</td>\n",
       "    </tr>\n",
       "    <tr>\n",
       "      <th>1</th>\n",
       "      <td>readovkanews</td>\n",
       "      <td>rus</td>\n",
       "      <td>27640</td>\n",
       "      <td>1671462</td>\n",
       "      <td>2022-03-07 22:32:25+00:00</td>\n",
       "      <td>NaT</td>\n",
       "      <td>Он окруженный стоит, еще в городе не заходили....</td>\n",
       "      <td>False</td>\n",
       "      <td>readovkanews_27640</td>\n",
       "      <td>2022-3-7, 22:00 - 22:59</td>\n",
       "      <td>readovkanews</td>\n",
       "      <td>rus</td>\n",
       "      <td>False</td>\n",
       "      <td>27640</td>\n",
       "      <td>2022-03-07 21:11:57+00:00</td>\n",
       "      <td>2022-03-07 21:12:03+00:00</td>\n",
       "      <td>Россия объявляет «режим тишины» с 10:00 8 март...</td>\n",
       "      <td>190786.0</td>\n",
       "      <td>128.0</td>\n",
       "      <td>False</td>\n",
       "      <td>True</td>\n",
       "      <td>93</td>\n",
       "    </tr>\n",
       "    <tr>\n",
       "      <th>2</th>\n",
       "      <td>readovkanews</td>\n",
       "      <td>rus</td>\n",
       "      <td>27640</td>\n",
       "      <td>1671433</td>\n",
       "      <td>2022-03-07 22:26:33+00:00</td>\n",
       "      <td>NaT</td>\n",
       "      <td>Неважно куда сейчас . Речь о спасении жизни.</td>\n",
       "      <td>False</td>\n",
       "      <td>readovkanews_27640</td>\n",
       "      <td>2022-3-7, 22:00 - 22:59</td>\n",
       "      <td>readovkanews</td>\n",
       "      <td>rus</td>\n",
       "      <td>False</td>\n",
       "      <td>27640</td>\n",
       "      <td>2022-03-07 21:11:57+00:00</td>\n",
       "      <td>2022-03-07 21:12:03+00:00</td>\n",
       "      <td>Россия объявляет «режим тишины» с 10:00 8 март...</td>\n",
       "      <td>190786.0</td>\n",
       "      <td>128.0</td>\n",
       "      <td>False</td>\n",
       "      <td>True</td>\n",
       "      <td>93</td>\n",
       "    </tr>\n",
       "    <tr>\n",
       "      <th>3</th>\n",
       "      <td>readovkanews</td>\n",
       "      <td>rus</td>\n",
       "      <td>27640</td>\n",
       "      <td>1671424</td>\n",
       "      <td>2022-03-07 22:25:41+00:00</td>\n",
       "      <td>NaT</td>\n",
       "      <td>Из Харькова многие не хотят выходить, просто н...</td>\n",
       "      <td>False</td>\n",
       "      <td>readovkanews_27640</td>\n",
       "      <td>2022-3-7, 22:00 - 22:59</td>\n",
       "      <td>readovkanews</td>\n",
       "      <td>rus</td>\n",
       "      <td>False</td>\n",
       "      <td>27640</td>\n",
       "      <td>2022-03-07 21:11:57+00:00</td>\n",
       "      <td>2022-03-07 21:12:03+00:00</td>\n",
       "      <td>Россия объявляет «режим тишины» с 10:00 8 март...</td>\n",
       "      <td>190786.0</td>\n",
       "      <td>128.0</td>\n",
       "      <td>False</td>\n",
       "      <td>True</td>\n",
       "      <td>93</td>\n",
       "    </tr>\n",
       "    <tr>\n",
       "      <th>4</th>\n",
       "      <td>readovkanews</td>\n",
       "      <td>rus</td>\n",
       "      <td>27640</td>\n",
       "      <td>1671410</td>\n",
       "      <td>2022-03-07 22:24:29+00:00</td>\n",
       "      <td>NaT</td>\n",
       "      <td>Такие вопросы должны решать военные обеих стор...</td>\n",
       "      <td>False</td>\n",
       "      <td>readovkanews_27640</td>\n",
       "      <td>2022-3-7, 22:00 - 22:59</td>\n",
       "      <td>readovkanews</td>\n",
       "      <td>rus</td>\n",
       "      <td>False</td>\n",
       "      <td>27640</td>\n",
       "      <td>2022-03-07 21:11:57+00:00</td>\n",
       "      <td>2022-03-07 21:12:03+00:00</td>\n",
       "      <td>Россия объявляет «режим тишины» с 10:00 8 март...</td>\n",
       "      <td>190786.0</td>\n",
       "      <td>128.0</td>\n",
       "      <td>False</td>\n",
       "      <td>True</td>\n",
       "      <td>93</td>\n",
       "    </tr>\n",
       "  </tbody>\n",
       "</table>\n",
       "</div>"
      ],
      "text/plain": [
       "  channel_name_x channel_orientation_x  message_id  comment_id  \\\n",
       "0   readovkanews                   rus       27640     1671477   \n",
       "1   readovkanews                   rus       27640     1671462   \n",
       "2   readovkanews                   rus       27640     1671433   \n",
       "3   readovkanews                   rus       27640     1671424   \n",
       "4   readovkanews                   rus       27640     1671410   \n",
       "\n",
       "               comment_date comment_edit_date  \\\n",
       "0 2022-03-07 22:34:41+00:00               NaT   \n",
       "1 2022-03-07 22:32:25+00:00               NaT   \n",
       "2 2022-03-07 22:26:33+00:00               NaT   \n",
       "3 2022-03-07 22:25:41+00:00               NaT   \n",
       "4 2022-03-07 22:24:29+00:00               NaT   \n",
       "\n",
       "                                     comment_message  comment_media  \\\n",
       "0  Может многие и не хотят, но это не значит, что...          False   \n",
       "1  Он окруженный стоит, еще в городе не заходили....          False   \n",
       "2       Неважно куда сейчас . Речь о спасении жизни.          False   \n",
       "3  Из Харькова многие не хотят выходить, просто н...          False   \n",
       "4  Такие вопросы должны решать военные обеих стор...          False   \n",
       "\n",
       "             join_key   comment_date_truncated channel_name_y  \\\n",
       "0  readovkanews_27640  2022-3-7, 22:00 - 22:59   readovkanews   \n",
       "1  readovkanews_27640  2022-3-7, 22:00 - 22:59   readovkanews   \n",
       "2  readovkanews_27640  2022-3-7, 22:00 - 22:59   readovkanews   \n",
       "3  readovkanews_27640  2022-3-7, 22:00 - 22:59   readovkanews   \n",
       "4  readovkanews_27640  2022-3-7, 22:00 - 22:59   readovkanews   \n",
       "\n",
       "  channel_orientation_y  comments_unavailable     id  \\\n",
       "0                   rus                 False  27640   \n",
       "1                   rus                 False  27640   \n",
       "2                   rus                 False  27640   \n",
       "3                   rus                 False  27640   \n",
       "4                   rus                 False  27640   \n",
       "\n",
       "                       date                 edit_date  \\\n",
       "0 2022-03-07 21:11:57+00:00 2022-03-07 21:12:03+00:00   \n",
       "1 2022-03-07 21:11:57+00:00 2022-03-07 21:12:03+00:00   \n",
       "2 2022-03-07 21:11:57+00:00 2022-03-07 21:12:03+00:00   \n",
       "3 2022-03-07 21:11:57+00:00 2022-03-07 21:12:03+00:00   \n",
       "4 2022-03-07 21:11:57+00:00 2022-03-07 21:12:03+00:00   \n",
       "\n",
       "                                             message     views  forwards  \\\n",
       "0  Россия объявляет «режим тишины» с 10:00 8 март...  190786.0     128.0   \n",
       "1  Россия объявляет «режим тишины» с 10:00 8 март...  190786.0     128.0   \n",
       "2  Россия объявляет «режим тишины» с 10:00 8 март...  190786.0     128.0   \n",
       "3  Россия объявляет «режим тишины» с 10:00 8 март...  190786.0     128.0   \n",
       "4  Россия объявляет «режим тишины» с 10:00 8 март...  190786.0     128.0   \n",
       "\n",
       "   media  legacy  comments_count  \n",
       "0  False    True              93  \n",
       "1  False    True              93  \n",
       "2  False    True              93  \n",
       "3  False    True              93  \n",
       "4  False    True              93  "
      ]
     },
     "execution_count": 8,
     "metadata": {},
     "output_type": "execute_result"
    }
   ],
   "source": [
    "comments_enriched = pd.merge(\n",
    "    comments, messages, \n",
    "    on=\"join_key\",\n",
    "    how=\"inner\"\n",
    ")\n",
    "\n",
    "print(comments_enriched.shape)\n",
    "assert comments_enriched.shape[0] == comments.shape[0]\n",
    "\n",
    "comments_enriched.head(5)"
   ]
  },
  {
   "cell_type": "code",
   "execution_count": 9,
   "metadata": {},
   "outputs": [],
   "source": [
    "comments_enriched[\"comment_message\"] = comments_enriched[\"comment_message\"].str.replace(\n",
    "    \"\\xa0\", \" \", regex=False\n",
    ").str.replace(\n",
    "    \"\\n\", \" \", regex=False\n",
    ").str.replace(\n",
    "    # emoji\n",
    "    \"\\s+\", \n",
    "    \" \", regex=True\n",
    ").str.strip()"
   ]
  },
  {
   "cell_type": "markdown",
   "metadata": {},
   "source": [
    "## 5.1. Выкидываем выбросы по времени"
   ]
  },
  {
   "cell_type": "code",
   "execution_count": 10,
   "metadata": {},
   "outputs": [
    {
     "data": {
      "text/plain": [
       "(50.0, 21971.0)"
      ]
     },
     "execution_count": 10,
     "metadata": {},
     "output_type": "execute_result"
    }
   ],
   "source": [
    "comments_enriched[\"comment_delta\"] = (\n",
    "    comments_enriched[\"comment_date\"] - comments_enriched[\"date\"]\n",
    ").dt.total_seconds()\n",
    "\n",
    "(\n",
    "    comments_enriched[\"comment_delta\"].quantile(0.05), \n",
    "    comments_enriched[\"comment_delta\"].quantile(0.95)\n",
    ")"
   ]
  },
  {
   "cell_type": "code",
   "execution_count": 11,
   "metadata": {},
   "outputs": [
    {
     "data": {
      "text/plain": [
       "(94059, 23)"
      ]
     },
     "execution_count": 11,
     "metadata": {},
     "output_type": "execute_result"
    }
   ],
   "source": [
    "comments_enriched = comments_enriched[\n",
    "    (\n",
    "        (comments_enriched[\"comment_delta\"] > comments_enriched[\"comment_delta\"].quantile(0.05))\n",
    "        & (comments_enriched[\"comment_delta\"] < comments_enriched[\"comment_delta\"].quantile(0.95))\n",
    "    )\n",
    "]\n",
    "\n",
    "comments_enriched.shape"
   ]
  },
  {
   "cell_type": "markdown",
   "metadata": {},
   "source": [
    "## 5.2. Выкидываем медиа без текста"
   ]
  },
  {
   "cell_type": "code",
   "execution_count": 12,
   "metadata": {},
   "outputs": [
    {
     "data": {
      "text/plain": [
       "(89355, 23)"
      ]
     },
     "execution_count": 12,
     "metadata": {},
     "output_type": "execute_result"
    }
   ],
   "source": [
    "comments_enriched = comments_enriched[\n",
    "    ~(\n",
    "        comments_enriched[\"comment_message\"] == \"\"\n",
    "    )\n",
    "]\n",
    "\n",
    "comments_enriched.shape"
   ]
  },
  {
   "cell_type": "markdown",
   "metadata": {},
   "source": [
    "## 5.3. Выкидываем ссылки"
   ]
  },
  {
   "cell_type": "code",
   "execution_count": 13,
   "metadata": {},
   "outputs": [
    {
     "data": {
      "text/plain": [
       "(88574, 23)"
      ]
     },
     "execution_count": 13,
     "metadata": {},
     "output_type": "execute_result"
    }
   ],
   "source": [
    "comments_enriched = comments_enriched[\n",
    "    ~comments_enriched[\"comment_message\"].str.contains(\"https?\", regex=True, flags=re.IGNORECASE)\n",
    "]\n",
    "\n",
    "comments_enriched.shape"
   ]
  },
  {
   "cell_type": "markdown",
   "metadata": {},
   "source": [
    "## 5.4. Выкидываем номера телефонов и карт"
   ]
  },
  {
   "cell_type": "code",
   "execution_count": 14,
   "metadata": {},
   "outputs": [
    {
     "data": {
      "text/plain": [
       "(88544, 23)"
      ]
     },
     "execution_count": 14,
     "metadata": {},
     "output_type": "execute_result"
    }
   ],
   "source": [
    "comments_enriched = comments_enriched[\n",
    "    ~comments_enriched[\"comment_message\"].str.contains(\"(?:\\d\\s*){8,}\", regex=True, flags=re.IGNORECASE)\n",
    "]\n",
    "\n",
    "comments_enriched.shape"
   ]
  },
  {
   "cell_type": "markdown",
   "metadata": {},
   "source": [
    "## 5.5. Спам и реклама"
   ]
  },
  {
   "cell_type": "code",
   "execution_count": 15,
   "metadata": {},
   "outputs": [
    {
     "name": "stdout",
     "output_type": "stream",
     "text": [
      "(88, 3) 545\n"
     ]
    },
    {
     "data": {
      "text/html": [
       "<div>\n",
       "<style scoped>\n",
       "    .dataframe tbody tr th:only-of-type {\n",
       "        vertical-align: middle;\n",
       "    }\n",
       "\n",
       "    .dataframe tbody tr th {\n",
       "        vertical-align: top;\n",
       "    }\n",
       "\n",
       "    .dataframe thead th {\n",
       "        text-align: right;\n",
       "    }\n",
       "</style>\n",
       "<table border=\"1\" class=\"dataframe\">\n",
       "  <thead>\n",
       "    <tr style=\"text-align: right;\">\n",
       "      <th></th>\n",
       "      <th>index</th>\n",
       "      <th>comment_message</th>\n",
       "      <th>len</th>\n",
       "    </tr>\n",
       "  </thead>\n",
       "  <tbody>\n",
       "    <tr>\n",
       "      <th>4</th>\n",
       "      <td>Для кого Украина не враг, завтра в 12:00 - Рид...</td>\n",
       "      <td>74</td>\n",
       "      <td>59</td>\n",
       "    </tr>\n",
       "    <tr>\n",
       "      <th>13</th>\n",
       "      <td>Для кого Украина не враг, завтра в 12:00 - Рид...</td>\n",
       "      <td>30</td>\n",
       "      <td>88</td>\n",
       "    </tr>\n",
       "    <tr>\n",
       "      <th>31</th>\n",
       "      <td>Да....😕😕ТАК РУСИШШВАЙНОВ НЕ ОПУСКАЛИ ДАЖЕ В АФ...</td>\n",
       "      <td>17</td>\n",
       "      <td>135</td>\n",
       "    </tr>\n",
       "    <tr>\n",
       "      <th>33</th>\n",
       "      <td>Ебем хохлов братья вперёд за славян!!!</td>\n",
       "      <td>16</td>\n",
       "      <td>38</td>\n",
       "    </tr>\n",
       "    <tr>\n",
       "      <th>39</th>\n",
       "      <td>Мы один народ братья по крови давайте закончим...</td>\n",
       "      <td>16</td>\n",
       "      <td>97</td>\n",
       "    </tr>\n",
       "  </tbody>\n",
       "</table>\n",
       "</div>"
      ],
      "text/plain": [
       "                                                index  comment_message  len\n",
       "4   Для кого Украина не враг, завтра в 12:00 - Рид...               74   59\n",
       "13  Для кого Украина не враг, завтра в 12:00 - Рид...               30   88\n",
       "31  Да....😕😕ТАК РУСИШШВАЙНОВ НЕ ОПУСКАЛИ ДАЖЕ В АФ...               17  135\n",
       "33             Ебем хохлов братья вперёд за славян!!!               16   38\n",
       "39  Мы один народ братья по крови давайте закончим...               16   97"
      ]
     },
     "execution_count": 15,
     "metadata": {},
     "output_type": "execute_result"
    }
   ],
   "source": [
    "comment_messages_vc = comments_enriched[\"comment_message\"].value_counts()\n",
    "comment_messages_vc = comment_messages_vc[comment_messages_vc > 2].reset_index(drop=False)\n",
    "\n",
    "comment_messages_vc[\"len\"] = comment_messages_vc[\"index\"].apply(len)\n",
    "\n",
    "comment_messages_vc = comment_messages_vc[\n",
    "    comment_messages_vc[\"len\"] > comment_messages_vc[\"len\"].quantile(0.85)\n",
    "]\n",
    "\n",
    "print(\n",
    "    comment_messages_vc.shape, \n",
    "    comment_messages_vc[\"comment_message\"].sum()\n",
    ")\n",
    "\n",
    "comment_messages_vc.head(5)"
   ]
  },
  {
   "cell_type": "code",
   "execution_count": 16,
   "metadata": {},
   "outputs": [
    {
     "data": {
      "text/plain": [
       "(87999, 23)"
      ]
     },
     "execution_count": 16,
     "metadata": {},
     "output_type": "execute_result"
    }
   ],
   "source": [
    "comments_enriched = comments_enriched[\n",
    "    ~comments_enriched[\"comment_message\"].isin(\n",
    "        comment_messages_vc[\"index\"].values\n",
    "    )\n",
    "]\n",
    "\n",
    "comments_enriched.shape"
   ]
  },
  {
   "cell_type": "code",
   "execution_count": 17,
   "metadata": {},
   "outputs": [
    {
     "data": {
      "text/plain": [
       "(87947, 23)"
      ]
     },
     "execution_count": 17,
     "metadata": {},
     "output_type": "execute_result"
    }
   ],
   "source": [
    "comments_enriched = comments_enriched[\n",
    "    ~comments_enriched[\"comment_message\"].str.contains(\"@[a-z0-9]\", regex=True, flags=re.IGNORECASE)\n",
    "]\n",
    "\n",
    "comments_enriched.shape"
   ]
  },
  {
   "cell_type": "markdown",
   "metadata": {},
   "source": [
    "## 5.6. Выборка для topic modeling"
   ]
  },
  {
   "cell_type": "code",
   "execution_count": 43,
   "metadata": {},
   "outputs": [
    {
     "name": "stdout",
     "output_type": "stream",
     "text": [
      "(87947, 5)\n"
     ]
    },
    {
     "data": {
      "text/html": [
       "<div>\n",
       "<style scoped>\n",
       "    .dataframe tbody tr th:only-of-type {\n",
       "        vertical-align: middle;\n",
       "    }\n",
       "\n",
       "    .dataframe tbody tr th {\n",
       "        vertical-align: top;\n",
       "    }\n",
       "\n",
       "    .dataframe thead th {\n",
       "        text-align: right;\n",
       "    }\n",
       "</style>\n",
       "<table border=\"1\" class=\"dataframe\">\n",
       "  <thead>\n",
       "    <tr style=\"text-align: right;\">\n",
       "      <th></th>\n",
       "      <th>channel_name_x</th>\n",
       "      <th>channel_orientation_x</th>\n",
       "      <th>comment_date</th>\n",
       "      <th>comment_message</th>\n",
       "      <th>id</th>\n",
       "    </tr>\n",
       "  </thead>\n",
       "  <tbody>\n",
       "    <tr>\n",
       "      <th>55079</th>\n",
       "      <td>nexta_live</td>\n",
       "      <td>ukr</td>\n",
       "      <td>2022-03-07 17:45:07+00:00</td>\n",
       "      <td>Лидия, я думаю Вам нужно нагого раскрыть глаза...</td>\n",
       "      <td>20362</td>\n",
       "    </tr>\n",
       "    <tr>\n",
       "      <th>45914</th>\n",
       "      <td>nexta_live</td>\n",
       "      <td>ukr</td>\n",
       "      <td>2022-03-07 20:35:38+00:00</td>\n",
       "      <td>А зачем мне мир , где нет России?</td>\n",
       "      <td>20405</td>\n",
       "    </tr>\n",
       "    <tr>\n",
       "      <th>3524</th>\n",
       "      <td>readovkanews</td>\n",
       "      <td>rus</td>\n",
       "      <td>2022-03-07 20:34:18+00:00</td>\n",
       "      <td>\"Есть место им в полях России Среди нечуждых и...</td>\n",
       "      <td>27634</td>\n",
       "    </tr>\n",
       "    <tr>\n",
       "      <th>21930</th>\n",
       "      <td>readovkanews</td>\n",
       "      <td>rus</td>\n",
       "      <td>2022-02-24 18:54:24+00:00</td>\n",
       "      <td>Бизнес — есть бизнес 💁‍♂</td>\n",
       "      <td>26522</td>\n",
       "    </tr>\n",
       "    <tr>\n",
       "      <th>47852</th>\n",
       "      <td>nexta_live</td>\n",
       "      <td>ukr</td>\n",
       "      <td>2022-03-07 19:54:35+00:00</td>\n",
       "      <td>Велкам в Тетрис и Змейку на 3310.))</td>\n",
       "      <td>20393</td>\n",
       "    </tr>\n",
       "  </tbody>\n",
       "</table>\n",
       "</div>"
      ],
      "text/plain": [
       "      channel_name_x channel_orientation_x              comment_date  \\\n",
       "55079     nexta_live                   ukr 2022-03-07 17:45:07+00:00   \n",
       "45914     nexta_live                   ukr 2022-03-07 20:35:38+00:00   \n",
       "3524    readovkanews                   rus 2022-03-07 20:34:18+00:00   \n",
       "21930   readovkanews                   rus 2022-02-24 18:54:24+00:00   \n",
       "47852     nexta_live                   ukr 2022-03-07 19:54:35+00:00   \n",
       "\n",
       "                                         comment_message     id  \n",
       "55079  Лидия, я думаю Вам нужно нагого раскрыть глаза...  20362  \n",
       "45914                  А зачем мне мир , где нет России?  20405  \n",
       "3524   \"Есть место им в полях России Среди нечуждых и...  27634  \n",
       "21930                           Бизнес — есть бизнес 💁‍♂  26522  \n",
       "47852                Велкам в Тетрис и Змейку на 3310.))  20393  "
      ]
     },
     "execution_count": 43,
     "metadata": {},
     "output_type": "execute_result"
    }
   ],
   "source": [
    "comments_to_modeling = comments_enriched[\n",
    "    [\n",
    "        \"channel_name_x\", \"channel_orientation_x\", \n",
    "        \"comment_date\", \"comment_message\", \"id\"\n",
    "    ]\n",
    "]\n",
    "\n",
    "print(comments_to_modeling.shape)\n",
    "comments_to_modeling.sample(5)"
   ]
  },
  {
   "cell_type": "markdown",
   "metadata": {},
   "source": [
    "# 6. Чистим посты"
   ]
  },
  {
   "cell_type": "code",
   "execution_count": 18,
   "metadata": {},
   "outputs": [
    {
     "data": {
      "text/plain": [
       "(3824, 14)"
      ]
     },
     "execution_count": 18,
     "metadata": {},
     "output_type": "execute_result"
    }
   ],
   "source": [
    "messages = messages[\n",
    "    (\n",
    "        (\n",
    "            (messages[\"date\"] >= START_DATE_LEFT)\n",
    "            & (messages[\"date\"] < START_DATE_RIGHT)\n",
    "        )\n",
    "        | (\n",
    "            (messages[\"date\"] >= END_DATE_LEFT)\n",
    "            & (messages[\"date\"] < END_DATE_RIGHT)\n",
    "        )\n",
    "    )\n",
    "]\n",
    "\n",
    "messages[\"date_truncated\"] = messages[\"date\"].apply(\n",
    "    lambda value: f\"{value.year}-{value.month}-{value.day}, {value.hour}:00 - {value.hour}:59\"\n",
    ")\n",
    "\n",
    "messages.shape"
   ]
  },
  {
   "cell_type": "code",
   "execution_count": 19,
   "metadata": {},
   "outputs": [
    {
     "data": {
      "text/plain": [
       "<matplotlib.lines.Line2D at 0x7fd479a955f8>"
      ]
     },
     "execution_count": 19,
     "metadata": {},
     "output_type": "execute_result"
    },
    {
     "data": {
      "image/png": "[encoded data removed]",
      "text/plain": [
       "<Figure size 1080x576 with 3 Axes>"
      ]
     },
     "metadata": {},
     "output_type": "display_data"
    }
   ],
   "source": [
    "date_plot_order = pd.unique(\n",
    "    messages.sort_values(\"date\")[\"date_truncated\"]\n",
    ")\n",
    "\n",
    "\n",
    "figure = plt.figure(figsize=(15, 8))\n",
    "grid = figure.add_gridspec(3, 1)\n",
    "\n",
    "ax_orient = figure.add_subplot(grid[0, 0])\n",
    "sns.countplot(x=\"channel_orientation\", data=messages, ax=ax_orient)\n",
    "\n",
    "ax_channel = figure.add_subplot(grid[1, 0])\n",
    "sns.countplot(x=\"channel_name\", data=messages, ax=ax_channel)\n",
    "\n",
    "ax_date = figure.add_subplot(grid[2, 0])\n",
    "sns.countplot(\n",
    "    x=\"date_truncated\", data=messages, \n",
    "    ax=ax_date, order=date_plot_order,\n",
    "    hue=\"channel_name\"\n",
    ")\n",
    "\n",
    "plt.xticks(rotation=90)\n",
    "plt.axvline(\n",
    "    x=23.5, color=\"black\", linestyle=\"--\"\n",
    ")"
   ]
  },
  {
   "cell_type": "markdown",
   "metadata": {},
   "source": [
    "## 6.1. Убираем из постов отличительные черты каналов (названия, приписки, emoji и т.п)"
   ]
  },
  {
   "cell_type": "code",
   "execution_count": 20,
   "metadata": {},
   "outputs": [],
   "source": [
    "with open(\"../data/raw/codes.json\", \"r\") as codes_file:\n",
    "    emoji_codes = json.load(codes_file)\n",
    "    \n",
    "regex_emoji_pattern = r\"|\".join(\n",
    "    re.escape(code) for code in emoji_codes.keys()\n",
    ")"
   ]
  },
  {
   "cell_type": "code",
   "execution_count": 21,
   "metadata": {},
   "outputs": [],
   "source": [
    "messages[\"message\"] = messages[\"message\"].str.replace(\n",
    "    \"УС > Подписаться\", \" \", regex=False\n",
    ").str.replace(\n",
    "    \"Реальная Война\", \" \", regex=False\n",
    ").str.replace(\n",
    "    \"Readovka\", \" \", regex=False\n",
    ").str.replace(\n",
    "    \"\\xa0\", \" \", regex=False\n",
    ").str.replace(\n",
    "    \"\\n\", \" \", regex=False\n",
    ").str.replace(\n",
    "    \"!!\", \" \", regex=False\n",
    ").str.replace(\n",
    "    \"‼\", \" \", regex=False\n",
    ").str.replace(\n",
    "    # emoji\n",
    "    regex_emoji_pattern, \n",
    "    \" \", regex=True\n",
    ").str.replace(\n",
    "    # emoji\n",
    "    \"\\s+\", \n",
    "    \" \", regex=True\n",
    ").str.strip()"
   ]
  },
  {
   "cell_type": "markdown",
   "metadata": {},
   "source": [
    "## 6.2. Сносим пустые посты (медиа)"
   ]
  },
  {
   "cell_type": "code",
   "execution_count": 29,
   "metadata": {},
   "outputs": [
    {
     "data": {
      "text/plain": [
       "(3473, 14)"
      ]
     },
     "execution_count": 29,
     "metadata": {},
     "output_type": "execute_result"
    }
   ],
   "source": [
    "messages = messages[\n",
    "    messages[\"message\"] != \"\"\n",
    "]\n",
    "\n",
    "messages.shape"
   ]
  },
  {
   "cell_type": "markdown",
   "metadata": {},
   "source": [
    "## 6.3. Выборка для topic modeling"
   ]
  },
  {
   "cell_type": "code",
   "execution_count": 34,
   "metadata": {},
   "outputs": [
    {
     "name": "stdout",
     "output_type": "stream",
     "text": [
      "(3473, 4)\n"
     ]
    },
    {
     "data": {
      "text/html": [
       "<div>\n",
       "<style scoped>\n",
       "    .dataframe tbody tr th:only-of-type {\n",
       "        vertical-align: middle;\n",
       "    }\n",
       "\n",
       "    .dataframe tbody tr th {\n",
       "        vertical-align: top;\n",
       "    }\n",
       "\n",
       "    .dataframe thead th {\n",
       "        text-align: right;\n",
       "    }\n",
       "</style>\n",
       "<table border=\"1\" class=\"dataframe\">\n",
       "  <thead>\n",
       "    <tr style=\"text-align: right;\">\n",
       "      <th></th>\n",
       "      <th>channel_name</th>\n",
       "      <th>channel_orientation</th>\n",
       "      <th>date</th>\n",
       "      <th>message</th>\n",
       "    </tr>\n",
       "  </thead>\n",
       "  <tbody>\n",
       "    <tr>\n",
       "      <th>9987</th>\n",
       "      <td>voynareal</td>\n",
       "      <td>ukr</td>\n",
       "      <td>2022-03-07 17:08:30+00:00</td>\n",
       "      <td>Нардеп ОПЗЖ Юрій Бойко відмовився говорити \"Пу...</td>\n",
       "    </tr>\n",
       "    <tr>\n",
       "      <th>1635</th>\n",
       "      <td>bbbreaking</td>\n",
       "      <td>rus</td>\n",
       "      <td>2022-03-07 04:40:07+00:00</td>\n",
       "      <td>️Netflix приостанавливает работу в России Ране...</td>\n",
       "    </tr>\n",
       "    <tr>\n",
       "      <th>14539</th>\n",
       "      <td>voynareal</td>\n",
       "      <td>ukr</td>\n",
       "      <td>2022-02-24 08:29:57+00:00</td>\n",
       "      <td>«Нас поебашило из ГРАДа. Хорошо, что все живы ...</td>\n",
       "    </tr>\n",
       "    <tr>\n",
       "      <th>3981</th>\n",
       "      <td>bbbreaking</td>\n",
       "      <td>rus</td>\n",
       "      <td>2022-02-24 07:00:24+00:00</td>\n",
       "      <td>Зеленский призвал украинцев не поддаваться панике</td>\n",
       "    </tr>\n",
       "    <tr>\n",
       "      <th>22727</th>\n",
       "      <td>u_now</td>\n",
       "      <td>ukr</td>\n",
       "      <td>2022-02-24 08:06:52+00:00</td>\n",
       "      <td>Администрация Эрдогана рассматривает специальн...</td>\n",
       "    </tr>\n",
       "  </tbody>\n",
       "</table>\n",
       "</div>"
      ],
      "text/plain": [
       "      channel_name channel_orientation                      date  \\\n",
       "9987     voynareal                 ukr 2022-03-07 17:08:30+00:00   \n",
       "1635    bbbreaking                 rus 2022-03-07 04:40:07+00:00   \n",
       "14539    voynareal                 ukr 2022-02-24 08:29:57+00:00   \n",
       "3981    bbbreaking                 rus 2022-02-24 07:00:24+00:00   \n",
       "22727        u_now                 ukr 2022-02-24 08:06:52+00:00   \n",
       "\n",
       "                                                 message  \n",
       "9987   Нардеп ОПЗЖ Юрій Бойко відмовився говорити \"Пу...  \n",
       "1635   ️Netflix приостанавливает работу в России Ране...  \n",
       "14539  «Нас поебашило из ГРАДа. Хорошо, что все живы ...  \n",
       "3981   Зеленский призвал украинцев не поддаваться панике  \n",
       "22727  Администрация Эрдогана рассматривает специальн...  "
      ]
     },
     "execution_count": 34,
     "metadata": {},
     "output_type": "execute_result"
    }
   ],
   "source": [
    "messages_to_modeling = messages[\n",
    "    [\n",
    "        \"channel_name\", \"channel_orientation\",\n",
    "        \"date\", \"message\"\n",
    "    ]\n",
    "]\n",
    "\n",
    "print(messages_to_modeling.shape)\n",
    "messages_to_modeling.sample(5)"
   ]
  },
  {
   "cell_type": "markdown",
   "metadata": {},
   "source": [
    "# 7. Выгружаем"
   ]
  },
  {
   "cell_type": "code",
   "execution_count": 46,
   "metadata": {},
   "outputs": [],
   "source": [
    "comments_to_modeling.to_parquet(\n",
    "    \"../data/processed/comments_to_modeling.parquet\"\n",
    ")\n",
    "\n",
    "messages_to_modeling.to_parquet(\n",
    "    \"../data/processed/messages_to_modeling.parquet\"\n",
    ")"
   ]
  }
 ],
 "metadata": {
  "kernelspec": {
   "display_name": "Python 3",
   "language": "python",
   "name": "python3"
  },
  "language_info": {
   "codemirror_mode": {
    "name": "ipython",
    "version": 3
   },
   "file_extension": ".py",
   "mimetype": "text/x-python",
   "name": "python",
   "nbconvert_exporter": "python",
   "pygments_lexer": "ipython3",
   "version": "3.7.3"
  }
 },
 "nbformat": 4,
 "nbformat_minor": 4
}
