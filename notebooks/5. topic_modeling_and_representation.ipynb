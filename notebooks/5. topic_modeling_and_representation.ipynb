{
 "cells": [
  {
   "cell_type": "code",
   "execution_count": 1,
   "metadata": {},
   "outputs": [
    {
     "name": "stdout",
     "output_type": "stream",
     "text": [
      "Requirement already satisfied: hdbscan==0.8.28 in /Users/erqups/anaconda3/lib/python3.7/site-packages (0.8.28)\n",
      "Requirement already satisfied: joblib>=1.0 in /Users/erqups/anaconda3/lib/python3.7/site-packages (from hdbscan==0.8.28) (1.1.0)\n",
      "Requirement already satisfied: scipy>=1.0 in /Users/erqups/anaconda3/lib/python3.7/site-packages (from hdbscan==0.8.28) (1.7.3)\n",
      "Requirement already satisfied: numpy>=1.20 in /Users/erqups/anaconda3/lib/python3.7/site-packages (from hdbscan==0.8.28) (1.20.0)\n",
      "Requirement already satisfied: scikit-learn>=0.20 in /Users/erqups/anaconda3/lib/python3.7/site-packages (from hdbscan==0.8.28) (1.0.2)\n",
      "Requirement already satisfied: cython>=0.27 in /Users/erqups/anaconda3/lib/python3.7/site-packages (from hdbscan==0.8.28) (0.29.17)\n",
      "Requirement already satisfied: threadpoolctl>=2.0.0 in /Users/erqups/anaconda3/lib/python3.7/site-packages (from scikit-learn>=0.20->hdbscan==0.8.28) (3.1.0)\n",
      "Requirement already satisfied: umap-learn==0.5.2 in /Users/erqups/.local/lib/python3.7/site-packages (0.5.2)\n",
      "Requirement already satisfied: scikit-learn>=0.22 in /Users/erqups/anaconda3/lib/python3.7/site-packages (from umap-learn==0.5.2) (1.0.2)\n",
      "Requirement already satisfied: tqdm in /Users/erqups/anaconda3/lib/python3.7/site-packages (from umap-learn==0.5.2) (4.63.0)\n",
      "Requirement already satisfied: pynndescent>=0.5 in /Users/erqups/.local/lib/python3.7/site-packages (from umap-learn==0.5.2) (0.5.5)\n",
      "Requirement already satisfied: scipy>=1.0 in /Users/erqups/anaconda3/lib/python3.7/site-packages (from umap-learn==0.5.2) (1.7.3)\n",
      "Requirement already satisfied: numpy>=1.17 in /Users/erqups/anaconda3/lib/python3.7/site-packages (from umap-learn==0.5.2) (1.20.0)\n",
      "Requirement already satisfied: numba>=0.49 in /Users/erqups/.local/lib/python3.7/site-packages (from umap-learn==0.5.2) (0.54.1)\n",
      "Requirement already satisfied: joblib>=0.11 in /Users/erqups/anaconda3/lib/python3.7/site-packages (from scikit-learn>=0.22->umap-learn==0.5.2) (1.1.0)\n",
      "Requirement already satisfied: threadpoolctl>=2.0.0 in /Users/erqups/anaconda3/lib/python3.7/site-packages (from scikit-learn>=0.22->umap-learn==0.5.2) (3.1.0)\n",
      "Requirement already satisfied: llvmlite>=0.30 in /Users/erqups/.local/lib/python3.7/site-packages (from pynndescent>=0.5->umap-learn==0.5.2) (0.37.0)\n",
      "Requirement already satisfied: setuptools in /Users/erqups/anaconda3/lib/python3.7/site-packages (from numba>=0.49->umap-learn==0.5.2) (46.1.3.post20200330)\n",
      "Requirement already satisfied: numpy==1.20 in /Users/erqups/anaconda3/lib/python3.7/site-packages (1.20.0)\n",
      "Requirement already satisfied: pymorphy2==0.9.1 in /Users/erqups/anaconda3/lib/python3.7/site-packages (0.9.1)\n",
      "Requirement already satisfied: docopt>=0.6 in /Users/erqups/anaconda3/lib/python3.7/site-packages (from pymorphy2==0.9.1) (0.6.2)\n",
      "Requirement already satisfied: dawg-python>=0.7.1 in /Users/erqups/anaconda3/lib/python3.7/site-packages (from pymorphy2==0.9.1) (0.7.2)\n",
      "Requirement already satisfied: pymorphy2-dicts-ru<3.0,>=2.4 in /Users/erqups/anaconda3/lib/python3.7/site-packages (from pymorphy2==0.9.1) (2.4.417127.4579844)\n"
     ]
    }
   ],
   "source": [
    "!pip install hdbscan==0.8.28\n",
    "!pip install umap-learn==0.5.2\n",
    "!pip install numpy==1.20\n",
    "!pip install pymorphy2==0.9.1"
   ]
  },
  {
   "cell_type": "code",
   "execution_count": 2,
   "metadata": {},
   "outputs": [],
   "source": [
    "import warnings\n",
    "from pickle import dump, load, HIGHEST_PROTOCOL\n",
    "from typing import Any\n",
    "from datetime import (\n",
    "    datetime, timezone\n",
    ")\n",
    "\n",
    "import nltk\n",
    "import pymorphy2\n",
    "import pandas as pd\n",
    "import numpy as np\n",
    "import hdbscan\n",
    "import umap\n",
    "\n",
    "from sklearn.feature_extraction.text import CountVectorizer"
   ]
  },
  {
   "cell_type": "code",
   "execution_count": 3,
   "metadata": {},
   "outputs": [
    {
     "name": "stderr",
     "output_type": "stream",
     "text": [
      "[nltk_data] Downloading package stopwords to\n",
      "[nltk_data]     /Users/erqups/nltk_data...\n",
      "[nltk_data]   Package stopwords is already up-to-date!\n"
     ]
    },
    {
     "data": {
      "text/plain": [
       "True"
      ]
     },
     "execution_count": 3,
     "metadata": {},
     "output_type": "execute_result"
    }
   ],
   "source": [
    "warnings.filterwarnings('ignore')\n",
    "nltk.download(\"stopwords\")"
   ]
  },
  {
   "cell_type": "code",
   "execution_count": 4,
   "metadata": {},
   "outputs": [],
   "source": [
    "from nltk.corpus import stopwords"
   ]
  },
  {
   "cell_type": "markdown",
   "metadata": {},
   "source": [
    "# 1. Служебные функции"
   ]
  },
  {
   "cell_type": "code",
   "execution_count": 29,
   "metadata": {},
   "outputs": [],
   "source": [
    "class Pickler:\n",
    "    @staticmethod\n",
    "    def pickle(object_to_pickle: Any, file: str) -> None:\n",
    "        with open(file, 'wb') as handle:\n",
    "            dump(object_to_pickle, handle, protocol=HIGHEST_PROTOCOL)\n",
    "\n",
    "    @staticmethod\n",
    "    def unpickle(file: str) -> Any:\n",
    "        with open(file, 'rb') as handle:\n",
    "            return load(handle)\n",
    "        \n",
    "\n",
    "class ClassTfIdfTokensExtractor:\n",
    "    def __init__(self, stop_words: list, ngram_range: tuple = (1, 1)):\n",
    "        self._ngram_range = ngram_range\n",
    "        self._stop_words = stop_words\n",
    "    \n",
    "    def _get_tf_idf(self, joined_clusters: np.ndarray, documents_count: int):\n",
    "        count_vectorizer = CountVectorizer(\n",
    "            ngram_range=self._ngram_range, stop_words=self._stop_words\n",
    "        ).fit(\n",
    "            joined_clusters\n",
    "        )\n",
    "        \n",
    "        vectorized = count_vectorizer.transform(joined_clusters).toarray()\n",
    "        vectorized_sum_hor = vectorized.sum(axis=1)\n",
    "        vectorized_sum_vert = vectorized.sum(axis=0)\n",
    "        \n",
    "        tf = np.divide(vectorized.T, vectorized_sum_hor)\n",
    "        idf = np.log(\n",
    "            np.divide(\n",
    "                documents_count, vectorized_sum_vert\n",
    "            )\n",
    "        ).reshape(-1, 1)\n",
    "        \n",
    "        tf_idf = np.multiply(tf, idf)\n",
    "\n",
    "        return tf_idf, count_vectorizer\n",
    "\n",
    "    def _get_topics_top_tokens(self, tf_idf, count_vectorizer, joined_clusters, topics, count):\n",
    "        tokens = count_vectorizer.get_feature_names_out()\n",
    "        labels = list(topics)\n",
    "        \n",
    "        tf_idf_transposed = tf_idf.T\n",
    "        indices = tf_idf_transposed.argsort()[:, -count:]\n",
    "        \n",
    "        top_tokens = {\n",
    "            label: [\n",
    "                (\n",
    "                    tokens[j], tf_idf_transposed[i][j]\n",
    "                ) for j in indices[i]\n",
    "            ][::-1] \n",
    "            for i, label in enumerate(labels)\n",
    "        }\n",
    "        \n",
    "        return top_tokens\n",
    "    \n",
    "    def extract(self, joined_clusters: np.ndarray, topics, documents_count: int, count: int = 20):\n",
    "        tf_idf, count_vectorizer = self._get_tf_idf(\n",
    "            joined_clusters, documents_count\n",
    "        )\n",
    "        \n",
    "        top_tokens = self._get_topics_top_tokens(\n",
    "            tf_idf, count_vectorizer, joined_clusters, topics, count\n",
    "        )\n",
    "        \n",
    "        return top_tokens\n",
    "    \n",
    "    \n",
    "def get_tf_idf_tokens_by_subsample(russian_stop_words, morph_analyzer, tf_idf_extractor, subsample, topics):\n",
    "    subsample_message = subsample[\"message\"].fillna(\"\").str.lower().str.replace(\n",
    "        \"[^a-zа-яё ]\", \" \", regex=True\n",
    "    ).str.replace(\n",
    "        \"\\s+\", \" \", regex=True\n",
    "    ).values\n",
    "    \n",
    "    subsample_message_df = pd.DataFrame(\n",
    "        subsample_message, columns=[\"message\"]\n",
    "    )\n",
    "    \n",
    "    subsample_message_df[\"topic\"] = topics\n",
    "    \n",
    "    subsample_message_df_joint = subsample_message_df.groupby(\n",
    "        ['topic'], as_index = False\n",
    "    ).agg(\n",
    "        {\n",
    "            'message': ' '.join\n",
    "        }\n",
    "    )\n",
    "    \n",
    "    subsample_message_df_joint[\"message\"] = subsample_message_df_joint[\"message\"].apply(\n",
    "        lambda value: \" \".join(\n",
    "            [\n",
    "                morph_analyzer.parse(word)[0].normal_form \n",
    "                for word in value.split()\n",
    "            ]\n",
    "        )\n",
    "    )\n",
    "    \n",
    "    subsample_message_df_joint[\"message\"] = subsample_message_df_joint[\"message\"].apply(\n",
    "        lambda value: \" \".join(\n",
    "            [\n",
    "                word for word in value.split()\n",
    "                if not word in russian_stop_words\n",
    "            ]\n",
    "        )\n",
    "    )\n",
    "    \n",
    "    extraction_result = tf_idf_extractor.extract(\n",
    "        subsample_message_df_joint[\"message\"].values, \n",
    "        subsample_message_df_joint[\"topic\"].values, \n",
    "        len(subsample_message_df), 10\n",
    "    )\n",
    "    \n",
    "    return extraction_result, subsample_message_df, subsample_message_df_joint"
   ]
  },
  {
   "cell_type": "markdown",
   "metadata": {},
   "source": [
    "# 2. Константы"
   ]
  },
  {
   "cell_type": "code",
   "execution_count": 6,
   "metadata": {},
   "outputs": [],
   "source": [
    "MESSAGES_EMBEDDINGS_PKL_FILE = \"../data/processed/messages_to_modeling_embeddings.pkl\"\n",
    "MESSAGES_TO_MODELING_PARQUET = \"../data/processed/messages_to_modeling.parquet\"\n",
    "# COMMENTS_EMBEDDINGS_PKL_FILE = \"../data/processed/comments_to_modeling_embeddings.pkl\"\n",
    "\n",
    "START_DATE_LEFT = datetime(\n",
    "    2022, 2, 24, 0, 0, 0, \n",
    "    tzinfo=timezone.utc\n",
    ")\n",
    "\n",
    "START_DATE_RIGHT = datetime(\n",
    "    2022, 2, 25, 0, 0, 0, \n",
    "    tzinfo=timezone.utc\n",
    ")\n",
    "\n",
    "END_DATE_LEFT = datetime(\n",
    "    2022, 3, 7, 0, 0, 0, \n",
    "    tzinfo=timezone.utc\n",
    ")\n",
    "\n",
    "END_DATE_RIGHT = datetime(\n",
    "    2022, 3, 8, 0, 0, 0, \n",
    "    tzinfo=timezone.utc\n",
    ")"
   ]
  },
  {
   "cell_type": "markdown",
   "metadata": {},
   "source": [
    "# 3. Стоп слова"
   ]
  },
  {
   "cell_type": "code",
   "execution_count": 7,
   "metadata": {},
   "outputs": [
    {
     "data": {
      "text/plain": [
       "560"
      ]
     },
     "execution_count": 7,
     "metadata": {},
     "output_type": "execute_result"
    }
   ],
   "source": [
    "russian_stop_words = stopwords.words(\"russian\") + [\n",
    "    \"хотел\", \"c\",\"а\",\"алло\",\"без\",\"белый\",\"близко\",\"более\",\"больше\",\"большой\",\"будем\",\"будет\",\"будете\",\"будешь\",\"будто\",\"буду\",\"будут\",\"будь\",\"бы\",\"бывает\",\"бывь\",\"был\",\"была\",\"были\",\"было\",\"быть\",\"в\",\"важная\",\"важное\",\"важные\",\"важный\",\"вам\",\"вами\",\"вас\",\"ваш\",\"ваша\",\"ваше\",\"ваши\",\"вверх\",\"вдали\",\"вдруг\",\"ведь\",\"везде\",\"вернуться\",\"весь\",\"вечер\",\"взгляд\",\"взять\",\"вид\",\"видел\",\"видеть\",\"вместе\",\"вне\",\"вниз\",\"внизу\",\"во\",\"вода\",\"война\",\"вокруг\",\"вон\",\"вообще\",\"вопрос\",\"восемнадцатый\",\"восемнадцать\",\"восемь\",\"восьмой\",\"вот\",\"впрочем\",\"времени\",\"время\",\"все\",\"все еще\",\"всегда\",\"всего\",\"всем\",\"всеми\",\"всему\",\"всех\",\"всею\",\"всю\",\"всюду\",\"вся\",\"всё\",\"второй\",\"вы\",\"выйти\",\"г\",\"где\",\"главный\",\"глаз\",\"говорил\",\"говорит\",\"говорить\",\"год\",\"года\",\"году\",\"голова\",\"голос\",\"город\",\"да\",\"давать\",\"давно\",\"даже\",\"далекий\",\"далеко\",\"дальше\",\"даром\",\"дать\",\"два\",\"двадцатый\",\"двадцать\",\"две\",\"двенадцатый\",\"двенадцать\",\"дверь\",\"двух\",\"девятнадцатый\",\"девятнадцать\",\"девятый\",\"девять\",\"действительно\",\"дел\",\"делал\",\"делать\",\"делаю\",\"дело\",\"день\",\"деньги\",\"десятый\",\"десять\",\"для\",\"до\",\"довольно\",\"долго\",\"должен\",\"должно\",\"должный\",\"дом\",\"дорога\",\"друг\",\"другая\",\"другие\",\"других\",\"друго\",\"другое\",\"другой\",\"думать\",\"душа\",\"е\",\"его\",\"ее\",\"ей\",\"ему\",\"если\",\"есть\",\"еще\",\"ещё\",\"ею\",\"её\",\"ж\",\"ждать\",\"же\",\"жена\",\"женщина\",\"жизнь\",\"жить\",\"за\",\"занят\",\"занята\",\"занято\",\"заняты\",\"затем\",\"зато\",\"зачем\",\"здесь\",\"земля\",\"знать\",\"значит\",\"значить\",\"и\",\"иди\",\"идти\",\"из\",\"или\",\"им\",\"имеет\",\"имел\",\"именно\",\"иметь\",\"ими\",\"имя\",\"иногда\",\"их\",\"к\",\"каждая\",\"каждое\",\"каждые\",\"каждый\",\"кажется\",\"казаться\",\"как\",\"какая\",\"какой\",\"кем\",\"книга\",\"когда\",\"кого\",\"ком\",\"комната\",\"кому\",\"конец\",\"конечно\",\"которая\",\"которого\",\"которой\",\"которые\",\"который\",\"которых\",\"кроме\",\"кругом\",\"кто\",\"куда\",\"лежать\",\"лет\",\"ли\",\"лицо\",\"лишь\",\"лучше\",\"любить\",\"люди\",\"м\",\"маленький\",\"мало\",\"мать\",\"машина\",\"между\",\"меля\",\"менее\",\"меньше\",\"меня\",\"место\",\"миллионов\",\"мимо\",\"минута\",\"мир\",\"мира\",\"мне\",\"много\",\"многочисленная\",\"многочисленное\",\"многочисленные\",\"многочисленный\",\"мной\",\"мною\",\"мог\",\"могу\",\"могут\",\"мож\",\"может\",\"может быть\",\"можно\",\"можхо\",\"мои\",\"мой\",\"мор\",\"москва\",\"мочь\",\"моя\",\"моё\",\"мы\",\"на\",\"наверху\",\"над\",\"надо\",\"назад\",\"наиболее\",\"найти\",\"наконец\",\"нам\",\"нами\",\"народ\",\"нас\",\"начала\",\"начать\",\"наш\",\"наша\",\"наше\",\"наши\",\"не\",\"него\",\"недавно\",\"недалеко\",\"нее\",\"ней\",\"некоторый\",\"нельзя\",\"нем\",\"немного\",\"нему\",\"непрерывно\",\"нередко\",\"несколько\",\"нет\",\"нею\",\"неё\",\"ни\",\"нибудь\",\"ниже\",\"низко\",\"никакой\",\"никогда\",\"никто\",\"никуда\",\"ним\",\"ними\",\"них\",\"ничего\",\"ничто\",\"но\",\"новый\",\"нога\",\"ночь\",\"ну\",\"нужно\",\"нужный\",\"нх\",\"о\",\"об\",\"оба\",\"обычно\",\"один\",\"одиннадцатый\",\"одиннадцать\",\"однажды\",\"однако\",\"одного\",\"одной\",\"оказаться\",\"окно\",\"около\",\"он\",\"она\",\"они\",\"оно\",\"опять\",\"особенно\",\"остаться\",\"от\",\"ответить\",\"отец\",\"откуда\",\"отовсюду\",\"отсюда\",\"очень\",\"первый\",\"перед\",\"писать\",\"плечо\",\"по\",\"под\",\"подойди\",\"подумать\",\"пожалуйста\",\"позже\",\"пойти\",\"пока\",\"пол\",\"получить\",\"помнить\",\"понимать\",\"понять\",\"пор\",\"пора\",\"после\",\"последний\",\"посмотреть\",\"посреди\",\"потом\",\"потому\",\"почему\",\"почти\",\"правда\",\"прекрасно\",\"при\",\"про\",\"просто\",\"против\",\"процентов\",\"путь\",\"пятнадцатый\",\"пятнадцать\",\"пятый\",\"пять\",\"работа\",\"работать\",\"раз\",\"разве\",\"рано\",\"раньше\",\"ребенок\",\"решить\",\"россия\",\"рука\",\"русский\",\"ряд\",\"рядом\",\"с\",\"с кем\",\"сам\",\"сама\",\"сами\",\"самим\",\"самими\",\"самих\",\"само\",\"самого\",\"самой\",\"самом\",\"самому\",\"саму\",\"самый\",\"свет\",\"свое\",\"своего\",\"своей\",\"свои\",\"своих\",\"свой\",\"свою\",\"сделать\",\"сеаой\",\"себе\",\"себя\",\"сегодня\",\"седьмой\",\"сейчас\",\"семнадцатый\",\"семнадцать\",\"семь\",\"сидеть\",\"сила\",\"сих\",\"сказал\",\"сказала\",\"сказать\",\"сколько\",\"слишком\",\"слово\",\"случай\",\"смотреть\",\"сначала\",\"снова\",\"со\",\"собой\",\"собою\",\"советский\",\"совсем\",\"спасибо\",\"спросить\",\"сразу\",\"стал\",\"старый\",\"стать\",\"стол\",\"сторона\",\"стоять\",\"страна\",\"суть\",\"считать\",\"т\",\"та\",\"так\",\"такая\",\"также\",\"таки\",\"такие\",\"такое\",\"такой\",\"там\",\"твои\",\"твой\",\"твоя\",\"твоё\",\"те\",\"тебе\",\"тебя\",\"тем\",\"теми\",\"теперь\",\"тех\",\"то\",\"тобой\",\"тобою\",\"товарищ\",\"тогда\",\"того\",\"тоже\",\"только\",\"том\",\"тому\",\"тот\",\"тою\",\"третий\",\"три\",\"тринадцатый\",\"тринадцать\",\"ту\",\"туда\",\"тут\",\"ты\",\"тысяч\",\"у\",\"увидеть\",\"уж\",\"уже\",\"улица\",\"уметь\",\"утро\",\"хороший\",\"хорошо\",\"хотел бы\",\"хотеть\",\"хоть\",\"хотя\",\"хочешь\",\"час\",\"часто\",\"часть\",\"чаще\",\"чего\",\"человек\",\"чем\",\"чему\",\"через\",\"четвертый\",\"четыре\",\"четырнадцатый\",\"четырнадцать\",\"что\",\"чтоб\",\"чтобы\",\"чуть\",\"шестнадцатый\",\"шестнадцать\",\"шестой\",\"шесть\",\"эта\",\"эти\",\"этим\",\"этими\",\"этих\",\"это\",\"этого\",\"этой\",\"этом\",\"этому\",\"этот\",\"эту\",\"я\",\"являюсь\"\n",
    "]\n",
    "\n",
    "russian_stop_words = list(set(russian_stop_words))\n",
    "len(russian_stop_words)"
   ]
  },
  {
   "cell_type": "markdown",
   "metadata": {},
   "source": [
    "# 4. Готовим посты и эмбеддинги"
   ]
  },
  {
   "cell_type": "code",
   "execution_count": 8,
   "metadata": {},
   "outputs": [
    {
     "data": {
      "text/plain": [
       "(3473, 768)"
      ]
     },
     "execution_count": 8,
     "metadata": {},
     "output_type": "execute_result"
    }
   ],
   "source": [
    "messages_embeddings = Pickler.unpickle(MESSAGES_EMBEDDINGS_PKL_FILE)\n",
    "messages_embeddings.shape"
   ]
  },
  {
   "cell_type": "code",
   "execution_count": 9,
   "metadata": {},
   "outputs": [
    {
     "data": {
      "text/plain": [
       "(3473, 4)"
      ]
     },
     "execution_count": 9,
     "metadata": {},
     "output_type": "execute_result"
    }
   ],
   "source": [
    "messages_to_topic = pd.read_parquet(\n",
    "    MESSAGES_TO_MODELING_PARQUET\n",
    ").reset_index(drop=True)\n",
    "\n",
    "messages_to_topic.shape"
   ]
  },
  {
   "cell_type": "markdown",
   "metadata": {},
   "source": [
    "## 4.1. Бьем на подвыборки"
   ]
  },
  {
   "cell_type": "markdown",
   "metadata": {},
   "source": [
    "### 4.1.1. 24 февраля - проукраинские"
   ]
  },
  {
   "cell_type": "code",
   "execution_count": 10,
   "metadata": {},
   "outputs": [
    {
     "data": {
      "text/plain": [
       "(1426, 4)"
      ]
     },
     "execution_count": 10,
     "metadata": {},
     "output_type": "execute_result"
    }
   ],
   "source": [
    "ukr_24_feb = messages_to_topic[\n",
    "    (\n",
    "        messages_to_topic[\"channel_orientation\"] == \"ukr\"\n",
    "    )\n",
    "    & (\n",
    "        (messages_to_topic[\"date\"] >= START_DATE_LEFT)\n",
    "        & (messages_to_topic[\"date\"] < START_DATE_RIGHT)\n",
    "        \n",
    "    )\n",
    "]\n",
    "\n",
    "ukr_24_feb = ukr_24_feb[\n",
    "    ~ukr_24_feb[\"message\"].duplicated()\n",
    "]\n",
    "\n",
    "ukr_24_feb.shape"
   ]
  },
  {
   "cell_type": "markdown",
   "metadata": {},
   "source": [
    "### 4.1.2. 7 марта - проукраинские"
   ]
  },
  {
   "cell_type": "code",
   "execution_count": 11,
   "metadata": {},
   "outputs": [
    {
     "data": {
      "text/plain": [
       "(772, 4)"
      ]
     },
     "execution_count": 11,
     "metadata": {},
     "output_type": "execute_result"
    }
   ],
   "source": [
    "ukr_7_mar = messages_to_topic[\n",
    "    (\n",
    "        messages_to_topic[\"channel_orientation\"] == \"ukr\"\n",
    "    )\n",
    "    & (\n",
    "        (messages_to_topic[\"date\"] >= END_DATE_LEFT)\n",
    "        & (messages_to_topic[\"date\"] < END_DATE_RIGHT)\n",
    "        \n",
    "    )\n",
    "]\n",
    "\n",
    "ukr_7_mar = ukr_7_mar[\n",
    "    ~ukr_7_mar[\"message\"].duplicated()\n",
    "]\n",
    "\n",
    "ukr_7_mar.shape"
   ]
  },
  {
   "cell_type": "markdown",
   "metadata": {},
   "source": [
    "### 4.1.3. 24 февраля - пророссийские"
   ]
  },
  {
   "cell_type": "code",
   "execution_count": 12,
   "metadata": {},
   "outputs": [
    {
     "data": {
      "text/plain": [
       "(858, 4)"
      ]
     },
     "execution_count": 12,
     "metadata": {},
     "output_type": "execute_result"
    }
   ],
   "source": [
    "rus_24_feb = messages_to_topic[\n",
    "    (\n",
    "        messages_to_topic[\"channel_orientation\"] == \"rus\"\n",
    "    )\n",
    "    & (\n",
    "        (messages_to_topic[\"date\"] >= START_DATE_LEFT)\n",
    "        & (messages_to_topic[\"date\"] < START_DATE_RIGHT)\n",
    "        \n",
    "    )\n",
    "]\n",
    "\n",
    "rus_24_feb = rus_24_feb[\n",
    "    ~rus_24_feb[\"message\"].duplicated()\n",
    "]\n",
    "\n",
    "rus_24_feb.shape"
   ]
  },
  {
   "cell_type": "markdown",
   "metadata": {},
   "source": [
    "### 4.1.4. 7 марта - пророссийские"
   ]
  },
  {
   "cell_type": "code",
   "execution_count": 13,
   "metadata": {},
   "outputs": [
    {
     "data": {
      "text/plain": [
       "(289, 4)"
      ]
     },
     "execution_count": 13,
     "metadata": {},
     "output_type": "execute_result"
    }
   ],
   "source": [
    "rus_7_mar = messages_to_topic[\n",
    "    (\n",
    "        messages_to_topic[\"channel_orientation\"] == \"rus\"\n",
    "    )\n",
    "    & (\n",
    "        (messages_to_topic[\"date\"] >= END_DATE_LEFT)\n",
    "        & (messages_to_topic[\"date\"] < END_DATE_RIGHT)\n",
    "        \n",
    "    )\n",
    "]\n",
    "\n",
    "rus_7_mar = rus_7_mar[\n",
    "    ~rus_7_mar[\"message\"].duplicated()\n",
    "]\n",
    "\n",
    "rus_7_mar.shape"
   ]
  },
  {
   "cell_type": "markdown",
   "metadata": {},
   "source": [
    "# 5. Понижение размерности и topic modeling"
   ]
  },
  {
   "cell_type": "markdown",
   "metadata": {},
   "source": [
    "## 5.1 24 февраля - проукраинские"
   ]
  },
  {
   "cell_type": "code",
   "execution_count": 124,
   "metadata": {},
   "outputs": [
    {
     "name": "stdout",
     "output_type": "stream",
     "text": [
      "CPU times: user 6.1 s, sys: 154 ms, total: 6.25 s\n",
      "Wall time: 5.4 s\n"
     ]
    },
    {
     "data": {
      "text/plain": [
       "(1426, 5)"
      ]
     },
     "execution_count": 124,
     "metadata": {},
     "output_type": "execute_result"
    }
   ],
   "source": [
    "%%time\n",
    "ukr_24_feb_reducted = umap.UMAP(\n",
    "    n_neighbors=15, n_components=5, \n",
    "    min_dist=0.1, metric='cosine'\n",
    ").fit_transform(\n",
    "    messages_embeddings[ukr_24_feb.index.values]\n",
    ")\n",
    "\n",
    "ukr_24_feb_reducted.shape"
   ]
  },
  {
   "cell_type": "code",
   "execution_count": 148,
   "metadata": {},
   "outputs": [],
   "source": [
    "ukr_24_feb_clusterizer = hdbscan.HDBSCAN(\n",
    "    min_cluster_size=13,\n",
    "    metric='l1',                    \n",
    "    cluster_selection_method='leaf'\n",
    ").fit(ukr_24_feb_reducted)"
   ]
  },
  {
   "cell_type": "code",
   "execution_count": 149,
   "metadata": {},
   "outputs": [
    {
     "name": "stdout",
     "output_type": "stream",
     "text": [
      "16\n"
     ]
    },
    {
     "data": {
      "text/plain": [
       "-1     744\n",
       " 12     95\n",
       " 11     74\n",
       " 8      72\n",
       " 4      70\n",
       " 6      66\n",
       " 14     65\n",
       " 2      56\n",
       " 10     55\n",
       " 0      35\n",
       " 7      19\n",
       " 13     19\n",
       " 9      16\n",
       " 1      14\n",
       " 3      13\n",
       " 5      13\n",
       "dtype: int64"
      ]
     },
     "execution_count": 149,
     "metadata": {},
     "output_type": "execute_result"
    }
   ],
   "source": [
    "ukr_24_feb_vc = pd.Series(\n",
    "    ukr_24_feb_clusterizer.labels_\n",
    ").value_counts()\n",
    "\n",
    "print(\n",
    "    len(ukr_24_feb_vc)\n",
    ")\n",
    "\n",
    "ukr_24_feb_vc[:20]"
   ]
  },
  {
   "cell_type": "markdown",
   "metadata": {},
   "source": [
    "## 5.2. 7 марта - проукраинские"
   ]
  },
  {
   "cell_type": "code",
   "execution_count": 93,
   "metadata": {},
   "outputs": [
    {
     "name": "stdout",
     "output_type": "stream",
     "text": [
      "CPU times: user 3.89 s, sys: 128 ms, total: 4.01 s\n",
      "Wall time: 3.18 s\n"
     ]
    },
    {
     "data": {
      "text/plain": [
       "(772, 5)"
      ]
     },
     "execution_count": 93,
     "metadata": {},
     "output_type": "execute_result"
    }
   ],
   "source": [
    "%%time\n",
    "ukr_7_mar_reducted = umap.UMAP(\n",
    "    n_neighbors=15, n_components=5, \n",
    "    min_dist=0.1, metric='cosine'\n",
    ").fit_transform(\n",
    "    messages_embeddings[ukr_7_mar.index.values]\n",
    ")\n",
    "\n",
    "ukr_7_mar_reducted.shape"
   ]
  },
  {
   "cell_type": "code",
   "execution_count": 114,
   "metadata": {},
   "outputs": [],
   "source": [
    "ukr_7_mar_clusterizer = hdbscan.HDBSCAN(\n",
    "    min_cluster_size=10,\n",
    "    metric='l1',                    \n",
    "    cluster_selection_method='leaf'\n",
    ").fit(ukr_7_mar_reducted)"
   ]
  },
  {
   "cell_type": "code",
   "execution_count": 115,
   "metadata": {},
   "outputs": [
    {
     "name": "stdout",
     "output_type": "stream",
     "text": [
      "16\n"
     ]
    },
    {
     "data": {
      "text/plain": [
       "-1     450\n",
       " 7      52\n",
       " 10     38\n",
       " 6      35\n",
       " 3      32\n",
       " 4      22\n",
       " 13     21\n",
       " 0      18\n",
       " 2      15\n",
       " 5      15\n",
       " 9      14\n",
       " 11     14\n",
       " 12     13\n",
       " 14     13\n",
       " 1      10\n",
       " 8      10\n",
       "dtype: int64"
      ]
     },
     "execution_count": 115,
     "metadata": {},
     "output_type": "execute_result"
    }
   ],
   "source": [
    "ukr_7_mar_vc = pd.Series(\n",
    "    ukr_7_mar_clusterizer.labels_\n",
    ").value_counts()\n",
    "\n",
    "print(\n",
    "    len(ukr_7_mar_vc)\n",
    ")\n",
    "\n",
    "ukr_7_mar_vc[:20]"
   ]
  },
  {
   "cell_type": "markdown",
   "metadata": {},
   "source": [
    "## 5.3. 24 февраля - пророссийские"
   ]
  },
  {
   "cell_type": "code",
   "execution_count": 20,
   "metadata": {},
   "outputs": [
    {
     "name": "stdout",
     "output_type": "stream",
     "text": [
      "CPU times: user 4.36 s, sys: 142 ms, total: 4.5 s\n",
      "Wall time: 3.67 s\n"
     ]
    },
    {
     "data": {
      "text/plain": [
       "(858, 5)"
      ]
     },
     "execution_count": 20,
     "metadata": {},
     "output_type": "execute_result"
    }
   ],
   "source": [
    "%%time\n",
    "rus_24_feb_reducted = umap.UMAP(\n",
    "    n_neighbors=15, n_components=5, \n",
    "    min_dist=0.1, metric='cosine'\n",
    ").fit_transform(\n",
    "    messages_embeddings[rus_24_feb.index.values]\n",
    ")\n",
    "\n",
    "rus_24_feb_reducted.shape"
   ]
  },
  {
   "cell_type": "code",
   "execution_count": 21,
   "metadata": {},
   "outputs": [],
   "source": [
    "rus_24_feb_clusterizer = hdbscan.HDBSCAN(\n",
    "    min_cluster_size=15,\n",
    "    metric='euclidean',                    \n",
    "    cluster_selection_method='leaf'\n",
    ").fit(rus_24_feb_reducted)"
   ]
  },
  {
   "cell_type": "code",
   "execution_count": 22,
   "metadata": {},
   "outputs": [
    {
     "name": "stdout",
     "output_type": "stream",
     "text": [
      "12\n"
     ]
    },
    {
     "data": {
      "text/plain": [
       "-1     458\n",
       " 8      63\n",
       " 4      61\n",
       " 3      60\n",
       " 1      52\n",
       " 0      36\n",
       " 5      33\n",
       " 2      20\n",
       " 9      20\n",
       " 6      19\n",
       " 7      18\n",
       " 10     18\n",
       "dtype: int64"
      ]
     },
     "execution_count": 22,
     "metadata": {},
     "output_type": "execute_result"
    }
   ],
   "source": [
    "rus_24_feb_vc = pd.Series(\n",
    "    rus_24_feb_clusterizer.labels_\n",
    ").value_counts()\n",
    "\n",
    "print(\n",
    "    len(rus_24_feb_vc)\n",
    ")\n",
    "\n",
    "rus_24_feb_vc[:20]"
   ]
  },
  {
   "cell_type": "markdown",
   "metadata": {},
   "source": [
    "## 5.4. 7 марта - пророссийские"
   ]
  },
  {
   "cell_type": "code",
   "execution_count": 23,
   "metadata": {},
   "outputs": [
    {
     "name": "stdout",
     "output_type": "stream",
     "text": [
      "CPU times: user 2.11 s, sys: 9.29 ms, total: 2.11 s\n",
      "Wall time: 2.12 s\n"
     ]
    },
    {
     "data": {
      "text/plain": [
       "(289, 5)"
      ]
     },
     "execution_count": 23,
     "metadata": {},
     "output_type": "execute_result"
    }
   ],
   "source": [
    "%%time\n",
    "rus_7_mar_reducted = umap.UMAP(\n",
    "    n_neighbors=15, n_components=5, \n",
    "    min_dist=0.1, metric='cosine'\n",
    ").fit_transform(\n",
    "    messages_embeddings[rus_7_mar.index.values]\n",
    ")\n",
    "\n",
    "rus_7_mar_reducted.shape"
   ]
  },
  {
   "cell_type": "code",
   "execution_count": 224,
   "metadata": {},
   "outputs": [],
   "source": [
    "rus_7_mar_clusterizer = hdbscan.HDBSCAN(\n",
    "    min_cluster_size=7,\n",
    "    metric='euclidean',                    \n",
    "    cluster_selection_method='leaf'\n",
    ").fit(rus_7_mar_reducted)"
   ]
  },
  {
   "cell_type": "code",
   "execution_count": 225,
   "metadata": {},
   "outputs": [
    {
     "name": "stdout",
     "output_type": "stream",
     "text": [
      "12\n"
     ]
    },
    {
     "data": {
      "text/plain": [
       "-1     131\n",
       " 5      20\n",
       " 4      18\n",
       " 6      18\n",
       " 3      17\n",
       " 7      17\n",
       " 0      17\n",
       " 8      16\n",
       " 1      12\n",
       " 2       8\n",
       " 9       8\n",
       " 10      7\n",
       "dtype: int64"
      ]
     },
     "execution_count": 225,
     "metadata": {},
     "output_type": "execute_result"
    }
   ],
   "source": [
    "rus_7_mar_vc = pd.Series(\n",
    "    rus_7_mar_clusterizer.labels_\n",
    ").value_counts()\n",
    "\n",
    "print(\n",
    "    len(rus_7_mar_vc)\n",
    ")\n",
    "\n",
    "rus_7_mar_vc[:20]"
   ]
  },
  {
   "cell_type": "markdown",
   "metadata": {},
   "source": [
    "# 6. Topic representation"
   ]
  },
  {
   "cell_type": "code",
   "execution_count": 214,
   "metadata": {},
   "outputs": [],
   "source": [
    "morph_analyzer = pymorphy2.MorphAnalyzer(lang=\"ru\")\n",
    "tf_idf_extractor = ClassTfIdfTokensExtractor(\n",
    "    stop_words=russian_stop_words, ngram_range=(1, 2)\n",
    ")"
   ]
  },
  {
   "cell_type": "markdown",
   "metadata": {},
   "source": [
    "## 6.1. 24 февраля - проукраинские"
   ]
  },
  {
   "cell_type": "code",
   "execution_count": 215,
   "metadata": {},
   "outputs": [],
   "source": [
    "ukr_24_feb_extraction_result, ukr_24_feb_sub_df, ukr_24_feb_sub_df_joint = get_tf_idf_tokens_by_subsample(\n",
    "    russian_stop_words, morph_analyzer, tf_idf_extractor, \n",
    "    ukr_24_feb, ukr_24_feb_clusterizer.labels_\n",
    ")"
   ]
  },
  {
   "cell_type": "code",
   "execution_count": 216,
   "metadata": {},
   "outputs": [
    {
     "name": "stdout",
     "output_type": "stream",
     "text": [
      "12 сообщать_взрыв_слышный_российский_аэропорт_военный_украина_бой_киев_украинский\n",
      "11 https_com_www_https www_подписаться_facebook com_www facebook_подписываться_facebook_фейк\n",
      "8 украина_путин_зеленский_бояться_президент_гражданин_оборона_армия_решение_враг\n",
      "4 сирена_киев_луцк_днепр_харьков_харьков держаться_обращение всу_всу луцк_центр киев_видео\n",
      "6 погибнуть_область_результат_удар_обстрел_склад_результат обстрел_раненый_ранить_одесский\n",
      "14 санкция_заявить_британия_байден_акция_джонсон_актив_замораживать_великобритания_рубль\n",
      "2 российский_ракета_танк_российский танк_техника_вертолёт_граница_крылатый ракета_крылатый_военный техника\n",
      "10 рф_войско_танк_всу_остров_противник_район_уничтожить_удаться_украина\n",
      "0 укр_расти_далее_област_ки_нформаца_йський_техн_пов_обстр\n",
      "7 видео_фото_плакать расстреливать_плакать_расстреливать_расстреливать очевидец_оккупант харьков_уничтожить группа_очевидец уничтожить_пацан молодой\n",
      "13 украина_путин_готовый_нато_европа_германия_честно_италия венгрия_кипр_венгрия кипр\n",
      "9 пограничный_техника_область_пограничник_нацгвардия_прорыв_вильча_военный_житомирский_зайти\n",
      "1 область_комендантский_черкасский область_черкасский_область черкасский_вводиться комендантский_вводиться_ровенский область_киев киевский_арциз\n",
      "3 метро_харьков_прятаться_поезд_харьков прятаться_метро харьков_житель харьков_харьковский метро_житель_харьков временно\n",
      "5 мобильный_связь_абонент_мобильный связь_метро_перебой_очередь_въезд_оператор_киев\n"
     ]
    }
   ],
   "source": [
    "for idx in ukr_24_feb_vc.index.values:\n",
    "    if idx == -1:\n",
    "        continue\n",
    "        \n",
    "    top_tokens = \"_\".join(\n",
    "        [\n",
    "            pair[0] for pair in ukr_24_feb_extraction_result[idx]\n",
    "        ]\n",
    "    )\n",
    "    \n",
    "    print(idx, top_tokens)"
   ]
  },
  {
   "cell_type": "markdown",
   "metadata": {},
   "source": [
    "1. Продвижение ВС РФ\n",
    "2. Потери среди гражданских\n",
    "3. Санкции, курс рубля\n",
    "4. Действия ВСУ\n",
    "5. Лидеры стран НАТО\n",
    "6. Метро в качестве бомбоубежищ"
   ]
  },
  {
   "cell_type": "code",
   "execution_count": 188,
   "metadata": {},
   "outputs": [
    {
     "data": {
      "text/plain": [
       "'сообщается что в киевское метро впускают всех без взимания оплаты а станции стали использоваться в качестве бомбоубежищ '"
      ]
     },
     "execution_count": 188,
     "metadata": {},
     "output_type": "execute_result"
    }
   ],
   "source": [
    "ukr_24_feb_sub_df[\n",
    "    ukr_24_feb_sub_df[\"topic\"] == 5\n",
    "].loc[401][\"message\"]"
   ]
  },
  {
   "cell_type": "markdown",
   "metadata": {},
   "source": [
    "## 6.2. 24 февраля - пророссийские"
   ]
  },
  {
   "cell_type": "code",
   "execution_count": 189,
   "metadata": {},
   "outputs": [],
   "source": [
    "rus_24_feb_extraction_result, rus_24_feb_sub_df, rus_24_feb_sub_df_joint = get_tf_idf_tokens_by_subsample(\n",
    "    russian_stop_words, morph_analyzer, tf_idf_extractor, \n",
    "    rus_24_feb, rus_24_feb_clusterizer.labels_\n",
    ")"
   ]
  },
  {
   "cell_type": "code",
   "execution_count": 190,
   "metadata": {},
   "outputs": [
    {
     "name": "stdout",
     "output_type": "stream",
     "text": [
      "8 минобороны_минобороны рф_рф_военный_российский_военный инфраструктура_вывести_строй_вооружённый_инфраструктура\n",
      "4 президент_путин_заявить_зеленский_украина_решение_оружие_начало_украинский_президент рф\n",
      "3 войско_всу_тактический_группа_операция_российский_появиться_тактический группа_область_харьков\n",
      "1 рейс_авиакомпания_отменить_полёт_аэропорт_ростов_ростов дон_дон_воздушный_март\n",
      "0 рубль_доллар_биржа_индекс_торг_акция_нефть_курс_евро_мосбиржа\n",
      "5 взрыв_сообщать_одесса_воинский_кадр_харьков_всу_украинский_украинский сми_киев\n",
      "2 посольство киев_заседание_посольство_экстренный заседание_мид_созывать_закрывать_виза_перебой_эвакуировать\n",
      "9 банк_втб_вводить_вводить санкция_сша_сша вводить_ограничение_санкция банк_санкция_минфин сша\n",
      "6 выкладывать_выкладывать кадр_очевидец выкладывать_очевидец_кадр_издание_киев очевидец_киев_видео_гореть\n",
      "7 киев_взрыв_сирена_серия взрыв_серия_взрыв киев_reuters_звук_киев reuters_слышать серия\n",
      "10 санкция_великобритания_сша_жёсткий_санкция сша_джонсон_санкция рф_британия_рф_ввести\n"
     ]
    }
   ],
   "source": [
    "for idx in rus_24_feb_vc.index.values:\n",
    "    if idx == -1:\n",
    "        continue\n",
    "        \n",
    "    top_tokens = \"_\".join(\n",
    "        [\n",
    "            pair[0] for pair in rus_24_feb_extraction_result[idx]\n",
    "        ]\n",
    "    )\n",
    "    \n",
    "    print(idx, top_tokens)"
   ]
  },
  {
   "cell_type": "markdown",
   "metadata": {},
   "source": [
    "1. Продвижение ВС РФ\n",
    "2. Отмена авиарейсов\n",
    "3. Мосбиржа, рубль, валюта\n",
    "4. Санкции\n",
    "5. Взрывы в Киеве\n",
    "6. Эвакуация посольств из Киева"
   ]
  },
  {
   "cell_type": "code",
   "execution_count": 208,
   "metadata": {},
   "outputs": [
    {
     "data": {
      "text/html": [
       "<div>\n",
       "<style scoped>\n",
       "    .dataframe tbody tr th:only-of-type {\n",
       "        vertical-align: middle;\n",
       "    }\n",
       "\n",
       "    .dataframe tbody tr th {\n",
       "        vertical-align: top;\n",
       "    }\n",
       "\n",
       "    .dataframe thead th {\n",
       "        text-align: right;\n",
       "    }\n",
       "</style>\n",
       "<table border=\"1\" class=\"dataframe\">\n",
       "  <thead>\n",
       "    <tr style=\"text-align: right;\">\n",
       "      <th></th>\n",
       "      <th>message</th>\n",
       "      <th>topic</th>\n",
       "    </tr>\n",
       "  </thead>\n",
       "  <tbody>\n",
       "    <tr>\n",
       "      <th>313</th>\n",
       "      <td>газ в моменте превышал долларов за тысячу куб...</td>\n",
       "      <td>0</td>\n",
       "    </tr>\n",
       "    <tr>\n",
       "      <th>142</th>\n",
       "      <td>торги на московской бирже остановлены на неоп...</td>\n",
       "      <td>0</td>\n",
       "    </tr>\n",
       "    <tr>\n",
       "      <th>553</th>\n",
       "      <td>доллар выше рублей на бирже</td>\n",
       "      <td>0</td>\n",
       "    </tr>\n",
       "    <tr>\n",
       "      <th>155</th>\n",
       "      <td>курс доллара уже пробил историческую отметку и...</td>\n",
       "      <td>0</td>\n",
       "    </tr>\n",
       "    <tr>\n",
       "      <th>424</th>\n",
       "      <td>нефть марки brent выше долларов за баррель на...</td>\n",
       "      <td>0</td>\n",
       "    </tr>\n",
       "    <tr>\n",
       "      <th>241</th>\n",
       "      <td>акции втб падают на на бирже</td>\n",
       "      <td>0</td>\n",
       "    </tr>\n",
       "    <tr>\n",
       "      <th>128</th>\n",
       "      <td>курсы на покупку доллара и евро на сайте сберб...</td>\n",
       "      <td>0</td>\n",
       "    </tr>\n",
       "    <tr>\n",
       "      <th>397</th>\n",
       "      <td>индекс волатильности американского фондового ...</td>\n",
       "      <td>0</td>\n",
       "    </tr>\n",
       "    <tr>\n",
       "      <th>542</th>\n",
       "      <td>нефть марки brent выше долларов впервые с сен...</td>\n",
       "      <td>0</td>\n",
       "    </tr>\n",
       "    <tr>\n",
       "      <th>686</th>\n",
       "      <td>на токийской фондовой бирже началось резкое с...</td>\n",
       "      <td>0</td>\n",
       "    </tr>\n",
       "  </tbody>\n",
       "</table>\n",
       "</div>"
      ],
      "text/plain": [
       "                                               message  topic\n",
       "313   газ в моменте превышал долларов за тысячу куб...      0\n",
       "142   торги на московской бирже остановлены на неоп...      0\n",
       "553                        доллар выше рублей на бирже      0\n",
       "155  курс доллара уже пробил историческую отметку и...      0\n",
       "424   нефть марки brent выше долларов за баррель на...      0\n",
       "241                       акции втб падают на на бирже      0\n",
       "128  курсы на покупку доллара и евро на сайте сберб...      0\n",
       "397   индекс волатильности американского фондового ...      0\n",
       "542   нефть марки brent выше долларов впервые с сен...      0\n",
       "686   на токийской фондовой бирже началось резкое с...      0"
      ]
     },
     "execution_count": 208,
     "metadata": {},
     "output_type": "execute_result"
    }
   ],
   "source": [
    "rus_24_feb_sub_df[\n",
    "    rus_24_feb_sub_df[\"topic\"] == 0\n",
    "].sample(10)"
   ]
  },
  {
   "cell_type": "markdown",
   "metadata": {},
   "source": [
    "## 6.3. 7 марта - проукраинские"
   ]
  },
  {
   "cell_type": "code",
   "execution_count": 209,
   "metadata": {},
   "outputs": [],
   "source": [
    "ukr_7_mar_extraction_result, ukr_7_mar_sub_df, ukr_7_mar_sub_df_joint = get_tf_idf_tokens_by_subsample(\n",
    "    russian_stop_words, morph_analyzer, tf_idf_extractor, \n",
    "    ukr_7_mar, ukr_7_mar_clusterizer.labels_\n",
    ")"
   ]
  },
  {
   "cell_type": "code",
   "execution_count": 210,
   "metadata": {},
   "outputs": [
    {
     "name": "stdout",
     "output_type": "stream",
     "text": [
      "7 николаев_харьков_последствие_видео_видео сума_любовь_харьков авиаудар_дон_сума_николаев харьков\n",
      "10 удар_одесский_корабль_область_военный_погибнуть_николаев_ракета_штаб одесский_одесский областной\n",
      "6 переговоры_делегация_раунд переговоры_раунд_переговоры украина_украина_украинский_заявка украина_вылететь_беларусь\n",
      "3 мариуполь_житель_оккупант_митинг_слава_пленный_вновь митинг_всу самолёт_флаг украина_мелитополь вновь\n",
      "4 николаевский_глава николаевский_область_николаев_николаевский область_оккупант_огонь_российский_утренний атака_атака российский\n",
      "13 компания_россиянин_глобальный_российский_крупный_игра_нефть_stanley предсказывать_stanley_дефолт случиться\n",
      "0 рубль_превысить_доллар_цена_евро_биржа_рост_газ_впервые история_газ европа\n",
      "2 расти_укр_далее_студент_що_як_расти йська_йська_це_який\n",
      "5 прийти_соловьёв_урок_урок история_электричество_шестиклассник_школьник_слава украина_домой_полиция\n",
      "9 направление_противник_войско_наступление_продолжать_операция_потеря_мариуполь_киев_направление противник\n",
      "11 китай_обсудить_истребитель_байден_макрон_шолец_истребитель украина_си_вашингтон_передача\n",
      "12 пленный_подоляк_российский_министр внутренний_внутренний_киреев_использовать_министр_информация_министерство\n",
      "14 украина_победить_заявить_дикавицкий_алексей_германия_убедить_ле дриана_мельник_uaразом\n",
      "1 кв_област_вогнеборц_кв дувалить_одесько_художник_обстр лу_дувалить_лу_вм\n",
      "8 уплата_смочь_уплата есв_есв_польша_группа_лаборатория_физический предприниматель_набор_предприятие\n"
     ]
    }
   ],
   "source": [
    "for idx in ukr_7_mar_vc.index.values:\n",
    "    if idx == -1:\n",
    "        continue\n",
    "        \n",
    "    top_tokens = \"_\".join(\n",
    "        [\n",
    "            pair[0] for pair in ukr_7_mar_extraction_result[idx]\n",
    "        ]\n",
    "    )\n",
    "    \n",
    "    print(idx, top_tokens)"
   ]
  },
  {
   "cell_type": "markdown",
   "metadata": {},
   "source": [
    "1. Оборона украинских городов\n",
    "2. Переговоры в Белоруссии\n",
    "3. Антироссийские митинги\n",
    "4. Уход компаний из России, дефолт\n",
    "5. Рубль, валюты, энергоресурсы\n",
    "6. Заявления стран НАТО и Китая"
   ]
  },
  {
   "cell_type": "code",
   "execution_count": 221,
   "metadata": {},
   "outputs": [
    {
     "data": {
      "text/html": [
       "<div>\n",
       "<style scoped>\n",
       "    .dataframe tbody tr th:only-of-type {\n",
       "        vertical-align: middle;\n",
       "    }\n",
       "\n",
       "    .dataframe tbody tr th {\n",
       "        vertical-align: top;\n",
       "    }\n",
       "\n",
       "    .dataframe thead th {\n",
       "        text-align: right;\n",
       "    }\n",
       "</style>\n",
       "<table border=\"1\" class=\"dataframe\">\n",
       "  <thead>\n",
       "    <tr style=\"text-align: right;\">\n",
       "      <th></th>\n",
       "      <th>message</th>\n",
       "      <th>topic</th>\n",
       "    </tr>\n",
       "  </thead>\n",
       "  <tbody>\n",
       "    <tr>\n",
       "      <th>632</th>\n",
       "      <td>в харькове в результате обстрела оккупантами с...</td>\n",
       "      <td>10</td>\n",
       "    </tr>\n",
       "    <tr>\n",
       "      <th>629</th>\n",
       "      <td>на аэродроме под херсоном уничтожены военных в...</td>\n",
       "      <td>10</td>\n",
       "    </tr>\n",
       "    <tr>\n",
       "      <th>571</th>\n",
       "      <td>в черном море военные украины нанесли удар по ...</td>\n",
       "      <td>10</td>\n",
       "    </tr>\n",
       "    <tr>\n",
       "      <th>189</th>\n",
       "      <td>сегодня с утра николаев обстреливали ракетные ...</td>\n",
       "      <td>10</td>\n",
       "    </tr>\n",
       "    <tr>\n",
       "      <th>489</th>\n",
       "      <td>под обуховым час назад наш летчик ас сбил крыл...</td>\n",
       "      <td>10</td>\n",
       "    </tr>\n",
       "    <tr>\n",
       "      <th>381</th>\n",
       "      <td>в запорожской области российские военные кадыр...</td>\n",
       "      <td>10</td>\n",
       "    </tr>\n",
       "    <tr>\n",
       "      <th>570</th>\n",
       "      <td>в макарове киевская область в результате авиау...</td>\n",
       "      <td>10</td>\n",
       "    </tr>\n",
       "    <tr>\n",
       "      <th>753</th>\n",
       "      <td>появилось видео обстрела николаева вероятно и...</td>\n",
       "      <td>10</td>\n",
       "    </tr>\n",
       "    <tr>\n",
       "      <th>213</th>\n",
       "      <td>одесская область подверглась удару с моря в ра...</td>\n",
       "      <td>10</td>\n",
       "    </tr>\n",
       "    <tr>\n",
       "      <th>635</th>\n",
       "      <td>только что был нанесен ракетный удар по морско...</td>\n",
       "      <td>10</td>\n",
       "    </tr>\n",
       "  </tbody>\n",
       "</table>\n",
       "</div>"
      ],
      "text/plain": [
       "                                               message  topic\n",
       "632  в харькове в результате обстрела оккупантами с...     10\n",
       "629  на аэродроме под херсоном уничтожены военных в...     10\n",
       "571  в черном море военные украины нанесли удар по ...     10\n",
       "189  сегодня с утра николаев обстреливали ракетные ...     10\n",
       "489  под обуховым час назад наш летчик ас сбил крыл...     10\n",
       "381  в запорожской области российские военные кадыр...     10\n",
       "570  в макарове киевская область в результате авиау...     10\n",
       "753   появилось видео обстрела николаева вероятно и...     10\n",
       "213  одесская область подверглась удару с моря в ра...     10\n",
       "635  только что был нанесен ракетный удар по морско...     10"
      ]
     },
     "execution_count": 221,
     "metadata": {},
     "output_type": "execute_result"
    }
   ],
   "source": [
    "ukr_7_mar_sub_df[\n",
    "    ukr_7_mar_sub_df[\"topic\"] == 10\n",
    "].sample(10)"
   ]
  },
  {
   "cell_type": "markdown",
   "metadata": {},
   "source": [
    "## 6.4. 7 марта - пророссийские"
   ]
  },
  {
   "cell_type": "code",
   "execution_count": 226,
   "metadata": {},
   "outputs": [],
   "source": [
    "rus_7_mar_extraction_result, rus_7_mar_sub_df, rus_7_mar_sub_df_joint = get_tf_idf_tokens_by_subsample(\n",
    "    russian_stop_words, morph_analyzer, tf_idf_extractor, \n",
    "    rus_7_mar, rus_7_mar_clusterizer.labels_\n",
    ")"
   ]
  },
  {
   "cell_type": "code",
   "execution_count": 227,
   "metadata": {},
   "outputs": [
    {
     "name": "stdout",
     "output_type": "stream",
     "text": [
      "5 житель_власть_появиться_местный_всу_видео_автомобиль_посольство_студент_эвакуироваться\n",
      "4 ядерный_местный_житель_помощь_гуманитарный помощь_зеленский_куляк_гимнаст_российский_конвой\n",
      "6 продажа_приостанавливать_онлайн продажа_онлайн_магазин_компания_приостановить_sephora_прекращать_sephora закрывать\n",
      "3 переговоры_рф украина_раунд_раунд переговоры_мединский_переговоры рф_переговоры украина_делегация_рф_украинский делегация\n",
      "7 правительство_министр_энергия_товар_пресс служба_недружественный_российский_служба_пресс_ввести\n",
      "0 кубометр_тысяча_тысяча кубометр_рубль_газ_доллар_газ европа_европа_цена газ_цена\n",
      "8 минобороны_мариуполь_гуманитарный_гуманитарный коридор_украина минобороны_минобороны рф_коридор_населить_населить пункт_харьков\n",
      "1 санкция_импорт_поставка_ес_нефть рф_европа_нефть_газпром_бойкот_импорт нефть\n",
      "2 делегация_переговоры_российский делегация_глава_дипломатический_переговоры дипломатический_ситуация_подоляк_коридор_гуманитарный коридор\n",
      "9 нефтебаза_взрыв_луганский_лнр_луганск_обстрел_мирошникнуть_прогреметь_луганский нефтебаза_гореть нефтебаза\n",
      "10 гуманитарный коридор_коридор_гуманитарный_мирный_сообщить_мо рф_мо_согласовать_гражданин_киев харьков\n"
     ]
    }
   ],
   "source": [
    "for idx in rus_7_mar_vc.index.values:\n",
    "    if idx == -1:\n",
    "        continue\n",
    "        \n",
    "    top_tokens = \"_\".join(\n",
    "        [\n",
    "            pair[0] for pair in rus_7_mar_extraction_result[idx]\n",
    "        ]\n",
    "    )\n",
    "    \n",
    "    print(idx, top_tokens)"
   ]
  },
  {
   "cell_type": "markdown",
   "metadata": {},
   "source": [
    "1. Гуманитарная помощь, коридоры\n",
    "2. Уход компаний из России, приостановка\n",
    "3. Переговоры в Белоруссии\n",
    "4. Цена на энергоресурсы в Европе\n",
    "5. Санкции, недружественные страны\n",
    "6. Взрыв нефтебазы в ЛНР"
   ]
  },
  {
   "cell_type": "code",
   "execution_count": 238,
   "metadata": {},
   "outputs": [
    {
     "data": {
      "text/html": [
       "<div>\n",
       "<style scoped>\n",
       "    .dataframe tbody tr th:only-of-type {\n",
       "        vertical-align: middle;\n",
       "    }\n",
       "\n",
       "    .dataframe tbody tr th {\n",
       "        vertical-align: top;\n",
       "    }\n",
       "\n",
       "    .dataframe thead th {\n",
       "        text-align: right;\n",
       "    }\n",
       "</style>\n",
       "<table border=\"1\" class=\"dataframe\">\n",
       "  <thead>\n",
       "    <tr style=\"text-align: right;\">\n",
       "      <th></th>\n",
       "      <th>message</th>\n",
       "      <th>topic</th>\n",
       "    </tr>\n",
       "  </thead>\n",
       "  <tbody>\n",
       "    <tr>\n",
       "      <th>3</th>\n",
       "      <td>около киева прогремел мощный взрыв по неподтве...</td>\n",
       "      <td>9</td>\n",
       "    </tr>\n",
       "    <tr>\n",
       "      <th>21</th>\n",
       "      <td>в николаеве возобновились обстрелы в небе видн...</td>\n",
       "      <td>9</td>\n",
       "    </tr>\n",
       "    <tr>\n",
       "      <th>24</th>\n",
       "      <td>мирная жительница погибла в результате артилл...</td>\n",
       "      <td>9</td>\n",
       "    </tr>\n",
       "    <tr>\n",
       "      <th>67</th>\n",
       "      <td>появились кадры тушения пожара на луганской не...</td>\n",
       "      <td>9</td>\n",
       "    </tr>\n",
       "    <tr>\n",
       "      <th>70</th>\n",
       "      <td>причина взрыва на нефтебазе в луганске попадан...</td>\n",
       "      <td>9</td>\n",
       "    </tr>\n",
       "    <tr>\n",
       "      <th>74</th>\n",
       "      <td>в луганске прогремел сильный взрыв по предвари...</td>\n",
       "      <td>9</td>\n",
       "    </tr>\n",
       "    <tr>\n",
       "      <th>225</th>\n",
       "      <td>вооружённые силы украины предположительно нане...</td>\n",
       "      <td>9</td>\n",
       "    </tr>\n",
       "    <tr>\n",
       "      <th>287</th>\n",
       "      <td>в луганске взрыв предположительно горит нефтеб...</td>\n",
       "      <td>9</td>\n",
       "    </tr>\n",
       "  </tbody>\n",
       "</table>\n",
       "</div>"
      ],
      "text/plain": [
       "                                               message  topic\n",
       "3    около киева прогремел мощный взрыв по неподтве...      9\n",
       "21   в николаеве возобновились обстрелы в небе видн...      9\n",
       "24    мирная жительница погибла в результате артилл...      9\n",
       "67   появились кадры тушения пожара на луганской не...      9\n",
       "70   причина взрыва на нефтебазе в луганске попадан...      9\n",
       "74   в луганске прогремел сильный взрыв по предвари...      9\n",
       "225  вооружённые силы украины предположительно нане...      9\n",
       "287  в луганске взрыв предположительно горит нефтеб...      9"
      ]
     },
     "execution_count": 238,
     "metadata": {},
     "output_type": "execute_result"
    }
   ],
   "source": [
    "rus_7_mar_sub_df[\n",
    "    rus_7_mar_sub_df[\"topic\"] == 9\n",
    "]"
   ]
  }
 ],
 "metadata": {
  "kernelspec": {
   "display_name": "Python 3",
   "language": "python",
   "name": "python3"
  },
  "language_info": {
   "codemirror_mode": {
    "name": "ipython",
    "version": 3
   },
   "file_extension": ".py",
   "mimetype": "text/x-python",
   "name": "python",
   "nbconvert_exporter": "python",
   "pygments_lexer": "ipython3",
   "version": "3.7.3"
  }
 },
 "nbformat": 4,
 "nbformat_minor": 4
}
